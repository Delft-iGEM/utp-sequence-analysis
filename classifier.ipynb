{
 "cells": [
  {
   "cell_type": "code",
   "execution_count": 5,
   "metadata": {},
   "outputs": [],
   "source": [
    "import h5py\n",
    "import random\n",
    "import numpy as np\n",
    "from matplotlib import pyplot as plt\n",
    "from sklearn.svm import SVC\n",
    "from Bio import SeqIO, AlignIO\n",
    "from collections import defaultdict\n"
   ]
  },
  {
   "cell_type": "code",
   "execution_count": 25,
   "metadata": {},
   "outputs": [],
   "source": [
    "db = SeqIO.parse(\"data/ADK1075_proteomics_DB_2.fasta\", \"fasta\")\n",
    "db_lens = defaultdict(list)\n",
    "for record in db:\n",
    "    db_lens[len(record.seq)].append(record)\n",
    "db_lens = dict(db_lens)\n",
    "\n",
    "utp = list(SeqIO.parse(\"data/uTP_HMM_hits.fasta\", \"fasta\"))\n",
    "utp_lens = np.array([len(record.seq) for record in utp])\n",
    "mu = np.mean(utp_lens)\n",
    "sigma = np.std(utp_lens)\n",
    "utp = [record for record in utp if mu - 3 * sigma <= len(record.seq) <= mu + 3 * sigma]\n",
    "utp_lens = np.array([len(record.seq) for record in utp])\n",
    "\n",
    "control = []\n",
    "for _ in range(len(utp_lens)):\n",
    "    l = int(np.random.normal(mu, sigma))\n",
    "    closest = min(db_lens.keys(), key=lambda x: abs(x - l))\n",
    "    chosen_rec_idx = random.randint(0, len(db_lens[closest]) - 1)\n",
    "    chosen_rec = db_lens[closest].pop(chosen_rec_idx)\n",
    "    if len(db_lens[closest]) == 0:\n",
    "        del db_lens[closest]\n",
    "    control.append(chosen_rec)"
   ]
  },
  {
   "cell_type": "code",
   "execution_count": 26,
   "metadata": {},
   "outputs": [
    {
     "name": "stdout",
     "output_type": "stream",
     "text": [
      "uTP: 726, mu: 600.6825613079019, sigma: 233.7891905300554\n",
      "Control: 726, mu: 609.8650137741047, sigma: 231.64647464776007\n"
     ]
    }
   ],
   "source": [
    "control_lens = np.array([len(rec.seq) for rec in control])\n",
    "\n",
    "print(f\"uTP: {len(utp_lens)}, mu: {mu}, sigma: {sigma}\")\n",
    "print(f\"Control: {len(control_lens)}, mu: {np.mean(control_lens)}, sigma: {np.std(control_lens)}\")"
   ]
  },
  {
   "cell_type": "code",
   "execution_count": 27,
   "metadata": {},
   "outputs": [
    {
     "data": {
      "text/plain": [
       "<matplotlib.legend.Legend at 0x732716df7ce0>"
      ]
     },
     "execution_count": 27,
     "metadata": {},
     "output_type": "execute_result"
    },
    {
     "data": {
      "image/png": "[encoded data removed]",
      "text/plain": [
       "<Figure size 640x480 with 1 Axes>"
      ]
     },
     "metadata": {},
     "output_type": "display_data"
    }
   ],
   "source": [
    "plt.hist(utp_lens, bins=50, alpha=0.5, label=\"utp\")\n",
    "plt.hist(control_lens, bins=50, alpha=0.5, label=\"control\")\n",
    "plt.legend()"
   ]
  },
  {
   "cell_type": "code",
   "execution_count": 28,
   "metadata": {},
   "outputs": [
    {
     "data": {
      "text/plain": [
       "726"
      ]
     },
     "execution_count": 28,
     "metadata": {},
     "output_type": "execute_result"
    }
   ],
   "source": [
    "# Write to file\n",
    "SeqIO.write(utp, \"embeddings/uTP_HMM_hits_filtered.fasta\", \"fasta\")\n",
    "SeqIO.write(control, \"embeddings/control.fasta\", \"fasta\")"
   ]
  }
 ],
 "metadata": {
  "kernelspec": {
   "display_name": "Python 3",
   "language": "python",
   "name": "python3"
  },
  "language_info": {
   "codemirror_mode": {
    "name": "ipython",
    "version": 3
   },
   "file_extension": ".py",
   "mimetype": "text/x-python",
   "name": "python",
   "nbconvert_exporter": "python",
   "pygments_lexer": "ipython3",
   "version": "3.12.3"
  }
 },
 "nbformat": 4,
 "nbformat_minor": 2
}
