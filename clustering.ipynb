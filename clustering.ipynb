{
 "cells": [
  {
   "cell_type": "code",
   "execution_count": 1,
   "metadata": {},
   "outputs": [],
   "source": [
    "import pandas as pd\n",
    "from Bio import SeqIO, AlignIO"
   ]
  },
  {
   "cell_type": "code",
   "execution_count": 2,
   "metadata": {},
   "outputs": [],
   "source": [
    "seq = SeqIO.parse(\"uTP_HMM_hits.fasta\", \"fasta\")\n",
    "seq = list(seq)"
   ]
  },
  {
   "cell_type": "code",
   "execution_count": 3,
   "metadata": {},
   "outputs": [],
   "source": [
    "df = pd.read_csv('ADK1075_ProteinQuantifications.csv')"
   ]
  },
  {
   "cell_type": "code",
   "execution_count": 4,
   "metadata": {},
   "outputs": [],
   "source": [
    "def filter(row):\n",
    "    return type(row['Sequence source']) == str and row['Sequence source'].startswith('B. bigelowii') and (row['Significant_Day'] == 'UCYN-A' or row['Significant_Night'] == 'UCYN-A')\n",
    "\n",
    "ucyn_a_prots = df[df.apply(filter, axis=1)]['Time'].to_list()\n",
    "ucyn_a_prots = set(ucyn_a_prots)"
   ]
  },
  {
   "cell_type": "code",
   "execution_count": 5,
   "metadata": {},
   "outputs": [],
   "source": [
    "ucyn_a_prots_seqs = [ s for s in seq if s.id in ucyn_a_prots ]"
   ]
  },
  {
   "cell_type": "code",
   "execution_count": 6,
   "metadata": {},
   "outputs": [],
   "source": [
    "c_terminal_sequences = []\n",
    "for record in ucyn_a_prots_seqs:\n",
    "    seq = str(record.seq)\n",
    "    c_terminal_sequences.append((record.id, seq[-140:]))\n"
   ]
  },
  {
   "cell_type": "code",
   "execution_count": 7,
   "metadata": {},
   "outputs": [],
   "source": [
    "# Write c-terminal sequences to fasta file\n",
    "with open('ucyn_a_c_terminal.fasta', 'w') as f:\n",
    "    for id, seq in c_terminal_sequences:\n",
    "        f.write(f'>seq_{id}\\n{seq}\\n')"
   ]
  },
  {
   "cell_type": "code",
   "execution_count": 8,
   "metadata": {},
   "outputs": [
    {
     "name": "stderr",
     "output_type": "stream",
     "text": [
      "  0%|          | 0/24 [00:00<?, ?it/s]"
     ]
    },
    {
     "name": "stdout",
     "output_type": "stream",
     "text": [
      "Params 0.001 0.7 0.0\n"
     ]
    },
    {
     "name": "stderr",
     "output_type": "stream",
     "text": [
      "  4%|▍         | 1/24 [00:02<01:02,  2.73s/it]"
     ]
    },
    {
     "name": "stdout",
     "output_type": "stream",
     "text": [
      "Count 18\n",
      "Params 0.001 0.7 0.05\n"
     ]
    },
    {
     "name": "stderr",
     "output_type": "stream",
     "text": [
      "  8%|▊         | 2/24 [00:05<00:57,  2.60s/it]"
     ]
    },
    {
     "name": "stdout",
     "output_type": "stream",
     "text": [
      "Count 18\n",
      "Params 0.001 0.7 0.1\n"
     ]
    },
    {
     "name": "stderr",
     "output_type": "stream",
     "text": [
      " 12%|█▎        | 3/24 [00:07<00:53,  2.55s/it]"
     ]
    },
    {
     "name": "stdout",
     "output_type": "stream",
     "text": [
      "Count 18\n",
      "Params 0.001 0.7 0.3\n"
     ]
    },
    {
     "name": "stderr",
     "output_type": "stream",
     "text": [
      " 17%|█▋        | 4/24 [00:10<00:52,  2.60s/it]"
     ]
    },
    {
     "name": "stdout",
     "output_type": "stream",
     "text": [
      "Count 15\n",
      "Params 0.001 0.8 0.0\n"
     ]
    },
    {
     "name": "stderr",
     "output_type": "stream",
     "text": [
      " 21%|██        | 5/24 [00:12<00:49,  2.59s/it]"
     ]
    },
    {
     "name": "stdout",
     "output_type": "stream",
     "text": [
      "Count 19\n",
      "Params 0.001 0.8 0.05\n"
     ]
    },
    {
     "name": "stderr",
     "output_type": "stream",
     "text": [
      " 25%|██▌       | 6/24 [00:15<00:46,  2.56s/it]"
     ]
    },
    {
     "name": "stdout",
     "output_type": "stream",
     "text": [
      "Count 19\n",
      "Params 0.001 0.8 0.1\n"
     ]
    },
    {
     "name": "stderr",
     "output_type": "stream",
     "text": [
      " 29%|██▉       | 7/24 [00:17<00:42,  2.53s/it]"
     ]
    },
    {
     "name": "stdout",
     "output_type": "stream",
     "text": [
      "Count 19\n",
      "Params 0.001 0.8 0.3\n"
     ]
    },
    {
     "name": "stderr",
     "output_type": "stream",
     "text": [
      " 33%|███▎      | 8/24 [00:20<00:40,  2.53s/it]"
     ]
    },
    {
     "name": "stdout",
     "output_type": "stream",
     "text": [
      "Count 16\n",
      "Params 0.001 0.9 0.0\n"
     ]
    },
    {
     "name": "stderr",
     "output_type": "stream",
     "text": [
      " 38%|███▊      | 9/24 [00:23<00:38,  2.57s/it]"
     ]
    },
    {
     "name": "stdout",
     "output_type": "stream",
     "text": [
      "Count 20\n",
      "Params 0.001 0.9 0.05\n"
     ]
    },
    {
     "name": "stderr",
     "output_type": "stream",
     "text": [
      " 42%|████▏     | 10/24 [00:26<00:37,  2.69s/it]"
     ]
    },
    {
     "name": "stdout",
     "output_type": "stream",
     "text": [
      "Count 20\n",
      "Params 0.001 0.9 0.1\n"
     ]
    },
    {
     "name": "stderr",
     "output_type": "stream",
     "text": [
      " 46%|████▌     | 11/24 [00:28<00:35,  2.75s/it]"
     ]
    },
    {
     "name": "stdout",
     "output_type": "stream",
     "text": [
      "Count 20\n",
      "Params 0.001 0.9 0.3\n"
     ]
    },
    {
     "name": "stderr",
     "output_type": "stream",
     "text": [
      " 50%|█████     | 12/24 [00:31<00:31,  2.64s/it]"
     ]
    },
    {
     "name": "stdout",
     "output_type": "stream",
     "text": [
      "Count 18\n",
      "Params 0.005 0.7 0.0\n"
     ]
    },
    {
     "name": "stderr",
     "output_type": "stream",
     "text": [
      " 54%|█████▍    | 13/24 [00:33<00:28,  2.58s/it]"
     ]
    },
    {
     "name": "stdout",
     "output_type": "stream",
     "text": [
      "Count 18\n",
      "Params 0.005 0.7 0.05\n"
     ]
    },
    {
     "name": "stderr",
     "output_type": "stream",
     "text": [
      " 58%|█████▊    | 14/24 [00:36<00:25,  2.54s/it]"
     ]
    },
    {
     "name": "stdout",
     "output_type": "stream",
     "text": [
      "Count 18\n",
      "Params 0.005 0.7 0.1\n"
     ]
    },
    {
     "name": "stderr",
     "output_type": "stream",
     "text": [
      " 62%|██████▎   | 15/24 [00:39<00:24,  2.69s/it]"
     ]
    },
    {
     "name": "stdout",
     "output_type": "stream",
     "text": [
      "Count 18\n",
      "Params 0.005 0.7 0.3\n"
     ]
    },
    {
     "name": "stderr",
     "output_type": "stream",
     "text": [
      " 67%|██████▋   | 16/24 [00:42<00:21,  2.73s/it]"
     ]
    },
    {
     "name": "stdout",
     "output_type": "stream",
     "text": [
      "Count 15\n",
      "Params 0.005 0.8 0.0\n"
     ]
    },
    {
     "name": "stderr",
     "output_type": "stream",
     "text": [
      " 71%|███████   | 17/24 [00:45<00:19,  2.83s/it]"
     ]
    },
    {
     "name": "stdout",
     "output_type": "stream",
     "text": [
      "Count 19\n",
      "Params 0.005 0.8 0.05\n"
     ]
    },
    {
     "name": "stderr",
     "output_type": "stream",
     "text": [
      " 75%|███████▌  | 18/24 [00:47<00:16,  2.72s/it]"
     ]
    },
    {
     "name": "stdout",
     "output_type": "stream",
     "text": [
      "Count 19\n",
      "Params 0.005 0.8 0.1\n"
     ]
    },
    {
     "name": "stderr",
     "output_type": "stream",
     "text": [
      " 79%|███████▉  | 19/24 [00:50<00:13,  2.63s/it]"
     ]
    },
    {
     "name": "stdout",
     "output_type": "stream",
     "text": [
      "Count 19\n",
      "Params 0.005 0.8 0.3\n"
     ]
    },
    {
     "name": "stderr",
     "output_type": "stream",
     "text": [
      " 83%|████████▎ | 20/24 [00:52<00:10,  2.66s/it]"
     ]
    },
    {
     "name": "stdout",
     "output_type": "stream",
     "text": [
      "Count 16\n",
      "Params 0.005 0.9 0.0\n"
     ]
    },
    {
     "name": "stderr",
     "output_type": "stream",
     "text": [
      " 88%|████████▊ | 21/24 [00:55<00:08,  2.69s/it]"
     ]
    },
    {
     "name": "stdout",
     "output_type": "stream",
     "text": [
      "Count 20\n",
      "Params 0.005 0.9 0.05\n"
     ]
    },
    {
     "name": "stderr",
     "output_type": "stream",
     "text": [
      " 92%|█████████▏| 22/24 [00:58<00:05,  2.64s/it]"
     ]
    },
    {
     "name": "stdout",
     "output_type": "stream",
     "text": [
      "Count 20\n",
      "Params 0.005 0.9 0.1\n"
     ]
    },
    {
     "name": "stderr",
     "output_type": "stream",
     "text": [
      " 96%|█████████▌| 23/24 [01:01<00:02,  2.75s/it]"
     ]
    },
    {
     "name": "stdout",
     "output_type": "stream",
     "text": [
      "Count 20\n",
      "Params 0.005 0.9 0.3\n"
     ]
    },
    {
     "name": "stderr",
     "output_type": "stream",
     "text": [
      "100%|██████████| 24/24 [01:04<00:00,  2.67s/it]"
     ]
    },
    {
     "name": "stdout",
     "output_type": "stream",
     "text": [
      "Count 18\n"
     ]
    },
    {
     "name": "stderr",
     "output_type": "stream",
     "text": [
      "\n"
     ]
    }
   ],
   "source": [
    "import subprocess\n",
    "from tqdm import tqdm\n",
    "\n",
    "def cluster(e_val, min_cov, min_seq_id):\n",
    "    tqdm.write(f\"Params {e_val} {min_cov} {min_seq_id}\")\n",
    "    # mmseqs easy-cluster ucyn_a_c_terminal.fasta result/c-term temp <options>\n",
    "    subprocess.run(f'mmseqs easy-cluster ucyn_a_c_terminal.fasta result/c-term temp --min-seq-id {min_seq_id} -c {min_cov} -e {e_val}', shell=True, stdout=subprocess.PIPE)\n",
    "    \n",
    "    # Read clustered sequences from result/c-term_cluster.tsv\n",
    "    df = pd.read_csv('result/c-term_cluster.tsv', sep='\\t', header=None)\n",
    "    df.columns = ['cluster-representative', 'cluster-member']\n",
    "\n",
    "    cluster_df = df.groupby('cluster-representative').aggregate(lambda x: list(x))\n",
    "    cluster_df['count'] = cluster_df['cluster-member'].apply(len)\n",
    "    cluster_df = cluster_df.sort_values('count', ascending=False)\n",
    "    tqdm.write(f\"Count {len(cluster_df[cluster_df['count'] > 1])}\")\n",
    "\n",
    "    # Save cluster representative sequences to csv with the parameters used\n",
    "    cluster_df.to_csv(f'clustered/clustered_{e_val}_{min_cov}_{min_seq_id}.csv')\n",
    "\n",
    "# Run clustering with different parameters\n",
    "e_vals = [0.001, 0.005]\n",
    "min_covs = [0.7, 0.8, 0.9]\n",
    "min_seq_ids = [0.0, 0.05, 0.1, 0.3]\n",
    "combinations = [(e, cov, seq_id) for e in e_vals for cov in min_covs for seq_id in min_seq_ids]\n",
    "\n",
    "for e_val, min_cov, min_seq_id in tqdm(combinations):\n",
    "    cluster(e_val, min_cov, min_seq_id)"
   ]
  },
  {
   "cell_type": "code",
   "execution_count": 31,
   "metadata": {},
   "outputs": [
    {
     "name": "stderr",
     "output_type": "stream",
     "text": [
      "100%|██████████| 37056/37056 [02:35<00:00, 238.58it/s]\n"
     ]
    },
    {
     "data": {
      "text/plain": [
       "('KC1-P2-N_CL1062Contig1_1', 'KC1-P2-N_CL2249Contig1_1', 77.5)"
      ]
     },
     "execution_count": 31,
     "metadata": {},
     "output_type": "execute_result"
    }
   ],
   "source": [
    "import sklearn.metrics as metrics\n",
    "import numpy as np\n",
    "import pyopa\n",
    "from tqdm import tqdm\n",
    "from Bio import pairwise2\n",
    "from Bio.Align import substitution_matrices\n",
    "\n",
    "sub_matrix = substitution_matrices.load(\"BLOSUM62\")\n",
    "\n",
    "pairs = [ ((id1, seq1), (id2, seq2)) for id1, seq1 in c_terminal_sequences for id2, seq2 in c_terminal_sequences if id1 != id2 ]\n",
    "distances = [\n",
    "    (id1, id2, pairwise2.align.globalds(s1, s2, sub_matrix, -10, -0.5, score_only=True))\n",
    "    for (id1, s1), (id2, s2) in tqdm(pairs)\n",
    "]\n",
    "distances[0]"
   ]
  },
  {
   "cell_type": "code",
   "execution_count": 45,
   "metadata": {},
   "outputs": [
    {
     "name": "stdout",
     "output_type": "stream",
     "text": [
      "Most similar sequences: KC1-P2-N_k69_Locus_12056_Transcript_1_1 KC1-P2_N3_k55_Locus_6321_Transcript_1_1\n",
      "Sequence 1: LGQRLQALLHASLLGAPPAVSGALVPESGCEWVQQELNELQLPPFPELGGFEFHLPPLPRLLPDTRGFEGLRSRLPSAPTTLAGHPTVVAEAATVAAASPSPLAAEQQQARWGAAAVGAGAGVAVSALFAFAFVGCSRRR\n",
      "Sequence 2: AGALAPEAGCEWVQRELNELQLPDFPDLGGFEFRLPPLPRLLPGTPDFEGLRSRLPSAVPTTLAGKPPGVAEAATVAAASPSPFVAAEQQQARWGAAAAGAGAGVTVSALFVFAFVGSRRRGSTGRAGAPPAHSGRRCQR\n",
      "\n",
      "Least similar sequences: KC1-P2-N_k25_Locus_23255_Transcript_1_1 KC1-P2-N_k37_Locus_2012_Transcript_10_1\n",
      "Sequence 1: ATPGAGCEWVKDFKQKFPDFPDFPDFPFKFELPPVPALPGRLLPQTLLEAAHRPLDPPAAAAAEKGGLDLSELTAAGLGFGGGMLVVGAVGALSLRRKGRLDLQIEEARRMEAAEAQGAVPASVAGLPALSLSSSRQMSA\n",
      "Sequence 2: SWEQLQSLLVQQQQRARAICRRATAESDSGERHQSSTLESDIRAVHRRATLERTPESDTEERQWRATPKSDTESDSGRATVESDSGERHRRATTPESDSSNFCTSASPNPRAVPSPSERDSLGLWRKGPFEKRALPCFCV\n",
      "\n",
      "Most similar alignment:\n",
      "LGQRLQALLHASLLGAPPAVSGALVPESGCEWVQQELNELQLPPFPELGGFEFHLPPLPRLLPDTRGFEGLRSRLPSA-PTTLAGHPTVVAEAATVAAASPSP-LAAEQQQARWGAAAVGAGAGVAVSALFAFAFVGCSRR------------------R\n",
      "                    .|||.||.||||||.||||||||.||.||||||.|||||||||.|..||||||||||| ||||||.|..|||||||||||||| .|||||||||||||.||||||.|||||.|||||..||                  |\n",
      "--------------------AGALAPEAGCEWVQRELNELQLPDFPDLGGFEFRLPPLPRLLPGTPDFEGLRSRLPSAVPTTLAGKPPGVAEAATVAAASPSPFVAAEQQQARWGAAAAGAGAGVTVSALFVFAFVGSRRRGSTGRAGAPPAHSGRRCQR\n",
      "  Score=457\n",
      "\n",
      "\n",
      "Least similar alignment:\n",
      "ATPGAGCEWVKDFKQKFPDFPDFPDFPFKFELPPVPALPGRLLPQTLLEAAHRPLDPPAAAAAEKGGLDLSELTAAGLGFGGGMLVVGAVGA-LSLRR----------------------KGRLDLQI---EEARRMEAAEAQG------------AVPA----SVAGLPALSLSSSRQM---SA\n",
      ".       |..                          |...|..|   ....|.....|.|....|....|......         ..||.. ..|.|                      .||.....   |..||....|...            |||.    ...||........|..   ..\n",
      "S-------WEQ--------------------------LQSLLVQQ---QQRARAICRRATAESDSGERHQSSTLESD---------IRAVHRRATLERTPESDTEERQWRATPKSDTESDSGRATVESDSGERHRRATTPESDSSNFCTSASPNPRAVPSPSERDSLGLWRKGPFEKRALPCFCV\n",
      "  Score=-55\n",
      "\n"
     ]
    }
   ],
   "source": [
    "# Find sequence pairs with the smallest distance\n",
    "max_score_pair = max(\n",
    "    ((id1, id2, dist) for id1, id2, dist in distances), key=lambda x: x[2]\n",
    ")[:2]\n",
    "# Find sequences\n",
    "bseq1 = next(s for s in c_terminal_sequences if s[0] == max_score_pair[0])\n",
    "bseq2 = next(s for s in c_terminal_sequences if s[0] == max_score_pair[1])\n",
    "\n",
    "print(f\"Most similar sequences: {max_score_pair[0]} {max_score_pair[1]}\")\n",
    "print(f\"Sequence 1: {bseq1[1]}\")\n",
    "print(f\"Sequence 2: {bseq2[1]}\")\n",
    "\n",
    "# Find least similar sequences\n",
    "min_score_pair = min(\n",
    "    ((id1, id2, dist) for id1, id2, dist in distances), key=lambda x: x[2]\n",
    ")[:2]\n",
    "\n",
    "# Find sequences\n",
    "wseq1 = next(s for s in c_terminal_sequences if s[0] == min_score_pair[0])\n",
    "wseq2 = next(s for s in c_terminal_sequences if s[0] == min_score_pair[1])\n",
    "\n",
    "print()\n",
    "print(f\"Least similar sequences: {min_score_pair[0]} {min_score_pair[1]}\")\n",
    "print(f\"Sequence 1: {wseq1[1]}\")\n",
    "print(f\"Sequence 2: {wseq2[1]}\")\n",
    "\n",
    "# Find the alignment between the most similar sequences\n",
    "alignment = pairwise2.align.globalds(bseq1[1], bseq2[1], sub_matrix, -10, -0.5)\n",
    "print()\n",
    "print(\"Most similar alignment:\")\n",
    "print(pairwise2.format_alignment(*alignment[0]))\n",
    "\n",
    "\n",
    "# Find the alignment between the least similar sequences\n",
    "alignment = pairwise2.align.globalds(wseq1[1], wseq2[1], sub_matrix, -10, -0.5)\n",
    "print()\n",
    "print(\"Least similar alignment:\")\n",
    "print(pairwise2.format_alignment(*alignment[0]))\n"
   ]
  },
  {
   "cell_type": "code",
   "execution_count": 63,
   "metadata": {},
   "outputs": [],
   "source": [
    "distances_dict = { (id1, id2): dist for id1, id2, dist in distances }\n",
    "min_score = min(distances_dict.values())\n",
    "# Add |min_score| to all scores so that all score are positive\n",
    "distances_dict = { (id1, id2): dist + abs(min_score) for (id1, id2), dist in distances_dict.items() }\n",
    "\n",
    "# Compute distance matrix\n",
    "n = len(c_terminal_sequences)\n",
    "distance_matrix = np.zeros((n, n), dtype=np.float64)\n",
    "for i, (id1, _) in enumerate(c_terminal_sequences):\n",
    "    for j, (id2, _) in enumerate(c_terminal_sequences):\n",
    "        if id1 == id2:\n",
    "            distance_matrix[i, j] = 0\n",
    "        else:\n",
    "            score_df = distances_dict[(id1, id2)]\n",
    "            distance_matrix[i, j] = (1/score_df) if score_df != 0 else 2.0"
   ]
  },
  {
   "cell_type": "code",
   "execution_count": 66,
   "metadata": {},
   "outputs": [],
   "source": [
    "import os\n",
    "def score_df(cluster_df):\n",
    "    labels = []\n",
    "    for id, _ in c_terminal_sequences:\n",
    "        cluster = cluster_df[cluster_df['cluster-member'].apply(lambda x: id in x)]\n",
    "        assert len(cluster) == 1, f\"Could not find cluster for {id}\"\n",
    "        labels.append(cluster.index[0])\n",
    "    return metrics.silhouette_score(distance_matrix, labels, metric='precomputed')\n",
    "\n",
    "directory = 'clustered'\n",
    "files = os.listdir(directory)\n",
    "results = {}\n",
    "for file in files:\n",
    "    if os.path.isfile(os.path.join(directory, file)):\n",
    "        results[file] = score_df(pd.read_csv(os.path.join(directory, file)))"
   ]
  },
  {
   "cell_type": "code",
   "execution_count": 67,
   "metadata": {},
   "outputs": [
    {
     "data": {
      "text/plain": [
       "('clustered_0.005_0.9_0.3.csv', -0.01893977566782182)"
      ]
     },
     "execution_count": 67,
     "metadata": {},
     "output_type": "execute_result"
    }
   ],
   "source": [
    "max(( (file, sc) for file, sc in results.items()  ), key=lambda r: r[1])"
   ]
  },
  {
   "cell_type": "code",
   "execution_count": 70,
   "metadata": {},
   "outputs": [
    {
     "name": "stdout",
     "output_type": "stream",
     "text": [
      "Index([5], dtype='int64')\n",
      "Index([1], dtype='int64')\n",
      "Index([96], dtype='int64')\n",
      "Index([4], dtype='int64')\n",
      "Index([2], dtype='int64')\n",
      "Index([0], dtype='int64')\n",
      "Index([11], dtype='int64')\n",
      "Index([86], dtype='int64')\n",
      "Index([39], dtype='int64')\n",
      "Index([2], dtype='int64')\n",
      "Index([49], dtype='int64')\n",
      "Index([53], dtype='int64')\n",
      "Index([12], dtype='int64')\n",
      "Index([22], dtype='int64')\n",
      "Index([4], dtype='int64')\n",
      "Index([25], dtype='int64')\n",
      "Index([29], dtype='int64')\n",
      "Index([33], dtype='int64')\n",
      "Index([5], dtype='int64')\n",
      "Index([81], dtype='int64')\n",
      "Index([4], dtype='int64')\n",
      "Index([5], dtype='int64')\n",
      "Index([83], dtype='int64')\n",
      "Index([95], dtype='int64')\n",
      "Index([88], dtype='int64')\n",
      "Index([2], dtype='int64')\n",
      "Index([78], dtype='int64')\n",
      "Index([64], dtype='int64')\n",
      "Index([8], dtype='int64')\n",
      "Index([16], dtype='int64')\n",
      "Index([57], dtype='int64')\n",
      "Index([4], dtype='int64')\n",
      "Index([0], dtype='int64')\n",
      "Index([75], dtype='int64')\n",
      "Index([74], dtype='int64')\n",
      "Index([3], dtype='int64')\n",
      "Index([73], dtype='int64')\n",
      "Index([3], dtype='int64')\n",
      "Index([72], dtype='int64')\n",
      "Index([8], dtype='int64')\n",
      "Index([0], dtype='int64')\n",
      "Index([4], dtype='int64')\n",
      "Index([71], dtype='int64')\n",
      "Index([3], dtype='int64')\n",
      "Index([70], dtype='int64')\n",
      "Index([69], dtype='int64')\n",
      "Index([11], dtype='int64')\n",
      "Index([68], dtype='int64')\n",
      "Index([67], dtype='int64')\n",
      "Index([66], dtype='int64')\n",
      "Index([5], dtype='int64')\n",
      "Index([9], dtype='int64')\n",
      "Index([65], dtype='int64')\n",
      "Index([3], dtype='int64')\n",
      "Index([9], dtype='int64')\n",
      "Index([10], dtype='int64')\n",
      "Index([63], dtype='int64')\n",
      "Index([4], dtype='int64')\n",
      "Index([2], dtype='int64')\n",
      "Index([8], dtype='int64')\n",
      "Index([62], dtype='int64')\n",
      "Index([10], dtype='int64')\n",
      "Index([61], dtype='int64')\n",
      "Index([2], dtype='int64')\n",
      "Index([60], dtype='int64')\n",
      "Index([59], dtype='int64')\n",
      "Index([0], dtype='int64')\n",
      "Index([76], dtype='int64')\n",
      "Index([4], dtype='int64')\n",
      "Index([2], dtype='int64')\n",
      "Index([9], dtype='int64')\n",
      "Index([0], dtype='int64')\n",
      "Index([0], dtype='int64')\n",
      "Index([77], dtype='int64')\n",
      "Index([0], dtype='int64')\n",
      "Index([6], dtype='int64')\n",
      "Index([1], dtype='int64')\n",
      "Index([7], dtype='int64')\n",
      "Index([7], dtype='int64')\n",
      "Index([1], dtype='int64')\n",
      "Index([0], dtype='int64')\n",
      "Index([5], dtype='int64')\n",
      "Index([14], dtype='int64')\n",
      "Index([0], dtype='int64')\n",
      "Index([1], dtype='int64')\n",
      "Index([94], dtype='int64')\n",
      "Index([93], dtype='int64')\n",
      "Index([92], dtype='int64')\n",
      "Index([2], dtype='int64')\n",
      "Index([2], dtype='int64')\n",
      "Index([10], dtype='int64')\n",
      "Index([0], dtype='int64')\n",
      "Index([0], dtype='int64')\n",
      "Index([91], dtype='int64')\n",
      "Index([1], dtype='int64')\n",
      "Index([90], dtype='int64')\n",
      "Index([8], dtype='int64')\n",
      "Index([89], dtype='int64')\n",
      "Index([87], dtype='int64')\n",
      "Index([79], dtype='int64')\n",
      "Index([2], dtype='int64')\n",
      "Index([85], dtype='int64')\n",
      "Index([0], dtype='int64')\n",
      "Index([84], dtype='int64')\n",
      "Index([0], dtype='int64')\n",
      "Index([7], dtype='int64')\n",
      "Index([12], dtype='int64')\n",
      "Index([82], dtype='int64')\n",
      "Index([6], dtype='int64')\n",
      "Index([0], dtype='int64')\n",
      "Index([80], dtype='int64')\n",
      "Index([58], dtype='int64')\n",
      "Index([56], dtype='int64')\n",
      "Index([17], dtype='int64')\n",
      "Index([55], dtype='int64')\n",
      "Index([34], dtype='int64')\n",
      "Index([11], dtype='int64')\n",
      "Index([32], dtype='int64')\n",
      "Index([3], dtype='int64')\n",
      "Index([3], dtype='int64')\n",
      "Index([31], dtype='int64')\n",
      "Index([10], dtype='int64')\n",
      "Index([30], dtype='int64')\n",
      "Index([9], dtype='int64')\n",
      "Index([1], dtype='int64')\n",
      "Index([28], dtype='int64')\n",
      "Index([1], dtype='int64')\n",
      "Index([27], dtype='int64')\n",
      "Index([2], dtype='int64')\n",
      "Index([26], dtype='int64')\n",
      "Index([2], dtype='int64')\n",
      "Index([4], dtype='int64')\n",
      "Index([24], dtype='int64')\n",
      "Index([23], dtype='int64')\n",
      "Index([7], dtype='int64')\n",
      "Index([1], dtype='int64')\n",
      "Index([21], dtype='int64')\n",
      "Index([0], dtype='int64')\n",
      "Index([4], dtype='int64')\n",
      "Index([20], dtype='int64')\n",
      "Index([19], dtype='int64')\n",
      "Index([5], dtype='int64')\n",
      "Index([1], dtype='int64')\n",
      "Index([18], dtype='int64')\n",
      "Index([35], dtype='int64')\n",
      "Index([36], dtype='int64')\n",
      "Index([5], dtype='int64')\n",
      "Index([37], dtype='int64')\n",
      "Index([47], dtype='int64')\n",
      "Index([54], dtype='int64')\n",
      "Index([6], dtype='int64')\n",
      "Index([6], dtype='int64')\n",
      "Index([1], dtype='int64')\n",
      "Index([1], dtype='int64')\n",
      "Index([7], dtype='int64')\n",
      "Index([6], dtype='int64')\n",
      "Index([5], dtype='int64')\n",
      "Index([1], dtype='int64')\n",
      "Index([13], dtype='int64')\n",
      "Index([12], dtype='int64')\n",
      "Index([3], dtype='int64')\n",
      "Index([0], dtype='int64')\n",
      "Index([1], dtype='int64')\n",
      "Index([3], dtype='int64')\n",
      "Index([52], dtype='int64')\n",
      "Index([51], dtype='int64')\n",
      "Index([0], dtype='int64')\n",
      "Index([2], dtype='int64')\n",
      "Index([13], dtype='int64')\n",
      "Index([50], dtype='int64')\n",
      "Index([3], dtype='int64')\n",
      "Index([6], dtype='int64')\n",
      "Index([14], dtype='int64')\n",
      "Index([0], dtype='int64')\n",
      "Index([48], dtype='int64')\n",
      "Index([1], dtype='int64')\n",
      "Index([46], dtype='int64')\n",
      "Index([38], dtype='int64')\n",
      "Index([45], dtype='int64')\n",
      "Index([4], dtype='int64')\n",
      "Index([44], dtype='int64')\n",
      "Index([43], dtype='int64')\n",
      "Index([7], dtype='int64')\n",
      "Index([42], dtype='int64')\n",
      "Index([41], dtype='int64')\n",
      "Index([40], dtype='int64')\n",
      "Index([15], dtype='int64')\n",
      "Index([5], dtype='int64')\n",
      "Index([3], dtype='int64')\n",
      "Index([0], dtype='int64')\n",
      "Index([2], dtype='int64')\n",
      "Index([0], dtype='int64')\n",
      "Index([15], dtype='int64')\n"
     ]
    }
   ],
   "source": [
    "import os\n",
    "def score_df(cluster_df):\n",
    "    labels = []\n",
    "    for id, _ in c_terminal_sequences:\n",
    "        cluster = cluster_df[cluster_df['cluster-member'].apply(lambda x: id in x)]\n",
    "        assert len(cluster) == 1, f\"Could not find cluster for {id}\"\n",
    "        labels.append(cluster.index[0])\n",
    "    \n",
    "    # Compute and score consensus sequence for each cluster\n",
    "    for cluster in cluster_df.iterrows():\n",
    "        cluster_id = cluster[0]\n",
    "        cluster_seqs = [ c_terminal_sequences[int(i)][0] for i in cluster[1]['cluster-member'] ]\n",
    "        \n",
    "    \n",
    "\n",
    "directory = 'clustered'\n",
    "files = os.listdir(directory)\n",
    "results = {}\n",
    "for file in files:\n",
    "    if os.path.isfile(os.path.join(directory, file)):\n",
    "        results[file] = score_df(pd.read_csv(os.path.join(directory, file)))\n",
    "        break"
   ]
  }
 ],
 "metadata": {
  "kernelspec": {
   "display_name": "Python 3",
   "language": "python",
   "name": "python3"
  },
  "language_info": {
   "codemirror_mode": {
    "name": "ipython",
    "version": 3
   },
   "file_extension": ".py",
   "mimetype": "text/x-python",
   "name": "python",
   "nbconvert_exporter": "python",
   "pygments_lexer": "ipython3",
   "version": "3.12.3"
  }
 },
 "nbformat": 4,
 "nbformat_minor": 2
}
