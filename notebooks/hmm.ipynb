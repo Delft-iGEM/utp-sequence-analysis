{
  "cells": [
    {
      "cell_type": "code",
      "execution_count": 1,
      "metadata": {},
      "outputs": [],
      "source": [
        "import random\n",
        "import re\n",
        "import xml.etree.ElementTree as ET\n",
        "from collections import defaultdict\n",
        "\n",
        "import matplotlib.pyplot as plt\n",
        "import numpy as np\n",
        "import pandas as pd\n",
        "import pyhmmer\n",
        "import pyopal\n",
        "from Bio import Seq, SeqIO, SeqRecord\n",
        "from matplotlib_venn import venn2"
      ]
    },
    {
      "cell_type": "code",
      "execution_count": 2,
      "metadata": {},
      "outputs": [],
      "source": [
        "field_names = [\n",
        "    \"target_name\",\n",
        "    \"accession\",\n",
        "    \"query_name\",\n",
        "    \"query_accession\",\n",
        "    \"E_value_full\",\n",
        "    \"score_full\",\n",
        "    \"bias_full\",\n",
        "    \"E_value_best\",\n",
        "    \"score_best\",\n",
        "    \"bias_best\",\n",
        "    \"exp\",\n",
        "    \"reg\",\n",
        "    \"clu\",\n",
        "    \"ov\",\n",
        "    \"env\",\n",
        "    \"dom\",\n",
        "    \"rep\",\n",
        "    \"inc\",\n",
        "    \"description\",\n",
        "]\n",
        "\n",
        "lines = list(open('../data/utp-data/utp-hits.txt').readlines())\n",
        "lines = lines[3:]\n",
        "\n",
        "rows = []\n",
        "for line in lines:\n",
        "    line = line.strip()\n",
        "    if line.startswith('#'):\n",
        "        continue\n",
        "    fields = re.split(r'\\s+', line.strip())\n",
        "    if len(fields) == 0:\n",
        "        continue\n",
        "    row = dict(zip(field_names, fields))\n",
        "    rows.append(row)\n",
        "    \n",
        "df = pd.DataFrame(rows)"
      ]
    },
    {
      "cell_type": "code",
      "execution_count": 3,
      "metadata": {},
      "outputs": [
        {
          "data": {},
          "metadata": {},
          "output_type": "display_data"
        }
      ],
      "source": [
        "our_hits = set(df[\"target_name\"].unique())\n",
        "their_hits = set((rec.id for rec in SeqIO.parse('../data/uTP_HMM_hits.fasta', 'fasta')))\n",
        "\n",
        "venn2([our_hits, their_hits], ('Ours', 'Theirs'))\n",
        "plt.show()"
      ]
    },
    {
      "cell_type": "code",
      "execution_count": 3,
      "metadata": {},
      "outputs": [],
      "source": [
        "with pyhmmer.plan7.HMMFile(\"../data/utp-data/utp.hmm\") as hmm_file:\n",
        "    hmm = hmm_file.read()"
      ]
    },
    {
      "cell_type": "code",
      "execution_count": 14,
      "metadata": {},
      "outputs": [],
      "source": [
        "with pyhmmer.easel.SequenceFile(\"../data/adk1075-data/ADK1075_proteomics_DB_2.fasta\", digital=True, alphabet=hmm.alphabet) as seq_file:\n",
        "    res = list(pyhmmer.hmmsearch(hmm, seq_file))"
      ]
    },
    {
      "cell_type": "code",
      "execution_count": 4,
      "metadata": {},
      "outputs": [],
      "source": [
        "pipeline = pyhmmer.plan7.Pipeline(hmm.alphabet)"
      ]
    },
    {
      "cell_type": "code",
      "execution_count": 30,
      "metadata": {},
      "outputs": [],
      "source": [
        "# Positive control\n",
        "# ids = set(rec.id for rec in db)\n",
        "good_c_term_ids = set((rec.id for rec in SeqIO.parse(\"../data/utp-data/good-c-term-gb.fasta\", 'fasta')))\n",
        "db = SeqIO.parse('../data/ADK1075_proteomics_DB_2.fasta', 'fasta')\n",
        "positive_control = [rec for rec in db if rec.id in good_c_term_ids]\n",
        "positive_control_hmmer = [pyhmmer.easel.TextSequence(name=rec.id.encode(\"utf-8\"), sequence=str(rec.seq)).digitize(hmm.alphabet) for rec in positive_control]\n",
        "hits = pipeline.search_hmm(hmm, pyhmmer.easel.DigitalSequenceBlock(hmm.alphabet, positive_control_hmmer))\n",
        "hit_ids = set((hit.name.decode(\"utf-8\") for hit in hits))"
      ]
    },
    {
      "cell_type": "code",
      "execution_count": 31,
      "metadata": {},
      "outputs": [
        {
          "name": "stdout",
          "output_type": "stream",
          "text": [
            "Positive control: true_positive_rate=93.20%, false_positive_rate=0.00%\n"
          ]
        }
      ],
      "source": [
        "true_positive_rate = (len(hit_ids & good_c_term_ids) / len(good_c_term_ids)) * 100\n",
        "false_positive_rate = (len(hit_ids - good_c_term_ids) / len(good_c_term_ids)) * 100\n",
        "print(f\"Positive control: {true_positive_rate=:.02f}%, {false_positive_rate=:.02f}%\")"
      ]
    },
    {
      "cell_type": "code",
      "execution_count": 34,
      "metadata": {},
      "outputs": [
        {
          "name": "stdout",
          "output_type": "stream",
          "text": [
            "Positive control:\n",
            "\tMu: 682.33\n",
            "\tSigma: 227.12\n",
            "Negative control:\n",
            "\tMu: 675.90\n",
            "\tSigma: 229.92\n"
          ]
        }
      ],
      "source": [
        "# negative control - include very random sequences, ucyn-a encoded proteins\n",
        "\n",
        "db = SeqIO.parse(\"../data/adk1075-data/ADK1075_proteomics_DB_2.fasta\", \"fasta\")\n",
        "db = [rec for rec in db if rec.id not in good_c_term_ids]\n",
        "db_lens = defaultdict(list)\n",
        "for record in db:\n",
        "    db_lens[len(record.seq)].append(record)\n",
        "db_lens = dict(db_lens)\n",
        "\n",
        "positive_lens = np.array([len(record.seq) for record in positive_control])\n",
        "mu = np.mean(positive_lens)\n",
        "sigma = np.std(positive_lens)\n",
        "positive_no_outliers = [record for record in positive_control if mu - 3 * sigma <= len(record.seq) <= mu + 3 * sigma]\n",
        "positive_lens = np.array([len(record.seq) for record in positive_no_outliers])\n",
        "\n",
        "negative_control = []\n",
        "for _ in range(len(positive_lens)):\n",
        "    l = int(np.random.normal(mu, sigma))\n",
        "    closest = min(db_lens.keys(), key=lambda x: abs(x - l))\n",
        "    chosen_rec_idx = random.randint(0, len(db_lens[closest]) - 1)\n",
        "    chosen_rec = db_lens[closest].pop(chosen_rec_idx)\n",
        "    if len(db_lens[closest]) == 0:\n",
        "        del db_lens[closest]\n",
        "    negative_control.append(chosen_rec)\n",
        "\n",
        "negative_control_lens = np.array([len(record.seq) for record in negative_control])\n",
        "print(f\"Positive control:\")\n",
        "print(f\"\\tMu: {mu:.02f}\")\n",
        "print(f\"\\tSigma: {sigma:.02f}\")\n",
        "print(f\"Negative control:\")\n",
        "print(f\"\\tMu: {np.mean(negative_control_lens):.02f}\")\n",
        "print(f\"\\tSigma: {np.std(negative_control_lens):.02f}\")"
      ]
    },
    {
      "cell_type": "code",
      "execution_count": 35,
      "metadata": {},
      "outputs": [
        {
          "data": {},
          "metadata": {},
          "output_type": "display_data"
        }
      ],
      "source": [
        "plt.hist(positive_lens, bins=20, alpha=0.5, label='Positive control')\n",
        "plt.hist(negative_control_lens, bins=20, alpha=0.5, label='Negative control')\n",
        "plt.legend()\n",
        "plt.show()"
      ]
    },
    {
      "cell_type": "code",
      "execution_count": 36,
      "metadata": {},
      "outputs": [],
      "source": [
        "negative_control_hmmer = [pyhmmer.easel.TextSequence(name=rec.id.encode(\"utf-8\"), sequence=str(rec.seq)).digitize(hmm.alphabet) for rec in negative_control]\n",
        "hits = pipeline.search_hmm(hmm, pyhmmer.easel.DigitalSequenceBlock(hmm.alphabet, negative_control_hmmer))\n",
        "hit_ids = set((hit.name.decode(\"utf-8\") for hit in hits))"
      ]
    },
    {
      "cell_type": "code",
      "execution_count": 37,
      "metadata": {},
      "outputs": [
        {
          "name": "stdout",
          "output_type": "stream",
          "text": [
            "Negative control: true_negative_rate=0.00%, false_negative_rate=3.40%\n"
          ]
        }
      ],
      "source": [
        "true_negative_rate = (len(hit_ids & good_c_term_ids) / len(good_c_term_ids)) * 100\n",
        "false_negative_rate = (len(hit_ids - good_c_term_ids) / len(good_c_term_ids)) * 100\n",
        "print(f\"Negative control: {true_negative_rate=:.02f}%, {false_negative_rate=:.02f}%\")"
      ]
    },
    {
      "cell_type": "code",
      "execution_count": 38,
      "metadata": {},
      "outputs": [
        {
          "name": "stdout",
          "output_type": "stream",
          "text": [
            "Precision: precision=1.00\n",
            "Recall: recall=0.96\n"
          ]
        }
      ],
      "source": [
        "# Precision and recall\n",
        "# Precision = TP / (TP + FP)\n",
        "# Recall = TP / (TP + FN)\n",
        "precision = true_positive_rate / (true_positive_rate + false_positive_rate)\n",
        "recall = true_positive_rate / (true_positive_rate + false_negative_rate)\n",
        "print(f\"Precision: {precision=:.02f}\")\n",
        "print(f\"Recall: {recall=:.02f}\")"
      ]
    },
    {
      "cell_type": "code",
      "execution_count": 28,
      "metadata": {},
      "outputs": [
        {
          "name": "stdout",
          "output_type": "stream",
          "text": [
            "m_venus:\n",
            "\t2+1+6+3+4:\t4.97e-26\n",
            "\t2+1+3+4:\t1.16e-22\n",
            "\t2+1+3+5+7:\t1.77e-22\n",
            "\t2+1+3+7:\t5.41e-20\n",
            "\t2+1+3+5:\t7.82e-19\n",
            "m_neon_green:\n",
            "\t2+1+6+3+4:\t7.31e-26\n",
            "\t2+1+3+4:\t1.00e-23\n",
            "\t2+1+3+5+7:\t8.84e-23\n",
            "\t2+1+3+7:\t2.54e-20\n",
            "\t2+1+3+5:\t1.25e-17\n"
          ]
        }
      ],
      "source": [
        "candidates = {\n",
        "    \"m_venus\": {\n",
        "        (\n",
        "            \"motif_2\",\n",
        "            \"motif_1\",\n",
        "            \"motif_3\",\n",
        "            \"motif_4\",\n",
        "        ): \"MVSKGEELFTGVVPILVELDGDVNGHKFSVSGEGEGDATYGKLTLKLICTTGKLPVPWPTLVTTLGYGLQCFARYPDHMKQHDFFKSAMPEGYVQERTIFFKDDGNYKTRAEVKFEGDTLVNRIELKGIDFKEDGNILGHKLEYNYNSHNVYITADKQKNGIKANFKIRHNIEDGGVQLADHYQQNTPIGDGPVLLPDNHYLSYQSKLSKDPNEKRDHMVLLEFVTAAGITLGMDELYKWLEEWRERLECWWDHSGTQTQLGACMGALGLHLGSRLDLRGHFGASLIEDAEPGCEWVEEPVEMLPDFPEPFSLPPIPRL\",\n",
        "        (\n",
        "            \"motif_2\",\n",
        "            \"motif_1\",\n",
        "            \"motif_6\",\n",
        "            \"motif_3\",\n",
        "            \"motif_4\",\n",
        "        ): \"MVSKGEELFTGVVPILVELDGDVNGHKFSVSGEGEGDATYGKLTLKLICTTGKLPVPWPTLVTTLGYGLQCFARYPDHMKQHDFFKSAMPEGYVQERTIFFKDDGNYKTRAEVKFEGDTLVNRIELKGIDFKEDGNILGHKLEYNYNSHNVYITADKQKNGIKANFKIRHNIEDGGVQLADHYQQNTPIGDGPVLLPDNHYLSYQSKLSKDPNEKRDHMVLLEFVTAAGITLGMDELYKWLEEWRERLECWWMPTETQTQLGACMGALGLHLGSRLDGARASAWRAALLGRAPPPHAPAEPGCEWVEELDRELPDFPEPFSLPPIPRL\",\n",
        "        (\n",
        "            \"motif_2\",\n",
        "            \"motif_1\",\n",
        "            \"motif_3\",\n",
        "            \"motif_5\",\n",
        "        ): \"MVSKGEELFTGVVPILVELDGDVNGHKFSVSGEGEGDATYGKLTLKLICTTGKLPVPWPTLVTTLGYGLQCFARYPDHMKQHDFFKSAMPEGYVQERTIFFKDDGNYKTRAEVKFEGDTLVNRIELKGIDFKEDGNILGHKLEYNYNSHNVYITADKQKNGIKANFKIRHNIEDGGVQLADHYQQNTPIGDGPVLLPDNHYLSYQSKLSKDPNEKRDHMVLLEFVTAAGITLGMDELYKWLEEWRERLECWWASRSTQTQLGACMGALGLHLGSRLDDLATFGDGHFYGAEPGCEWVEELRAVVTLZLPDFPD\",\n",
        "        (\n",
        "            \"motif_2\",\n",
        "            \"motif_1\",\n",
        "            \"motif_3\",\n",
        "            \"motif_5\",\n",
        "            \"motif_7\",\n",
        "        ): \"MVSKGEELFTGVVPILVELDGDVNGHKFSVSGEGEGDATYGKLTLKLICTTGKLPVPWPTLVTTLGYGLQCFARYPDHMKQHDFFKSAMPEGYVQERTIFFKDDGNYKTRAEVKFEGDTLVNRIELKGIDFKEDGNILGHKLEYNYNSHNVYITADKQKNGIKANFKIRHNIEDGGVQLADHYQQNTPIGDGPVLLPDNHYLSYQSKLSKDPNEKRDHMVLLEFVTAAGITLGMDELYKWLEEWRERLECWWEHALTQTQLGACMGALGLHLGSRLDQGELGPQVVYASAEPGCEWVEEYVAEAALZLPDFPDAPPJPRLLP\",\n",
        "        (\n",
        "            \"motif_2\",\n",
        "            \"motif_1\",\n",
        "            \"motif_3\",\n",
        "            \"motif_7\",\n",
        "        ): \"MVSKGEELFTGVVPILVELDGDVNGHKFSVSGEGEGDATYGKLTLKLICTTGKLPVPWPTLVTTLGYGLQCFARYPDHMKQHDFFKSAMPEGYVQERTIFFKDDGNYKTRAEVKFEGDTLVNRIELKGIDFKEDGNILGHKLEYNYNSHNVYITADKQKNGIKANFKIRHNIEDGGVQLADHYQQNTPIGDGPVLLPDNHYLSYQSKLSKDPNEKRDHMVLLEFVTAAGITLGMDELYKWLEEWRERLECWWLEERTQTQLGACMGALGLHLGSRLDEAGSMRSKIPVHAEPGCEWVEEWGSVPLAKPPPJPRLLP\",\n",
        "    },\n",
        "    \"m_neon_green\": {\n",
        "        (\n",
        "            \"motif_2\",\n",
        "            \"motif_1\",\n",
        "            \"motif_3\",\n",
        "            \"motif_4\",\n",
        "        ): \"MVSKGEEDNMASLPATHELHIFGSINGVDFDMVGQGTGNPNDGYEELNLKSTKGDLQFSPWILVPHIGYGFHQYLPYPDGMSPFQAAMVDGSGYQVHRTMQFEDGASLTVNYRYTYEGSHIKGEAQVKGTGFPADGPVMTNSLTAADWCRSKKTYPNDKTIISTFKWSYTTGNGKRYRSTARTTYTFAKPMAANYLKNQPMYVFRKTELKHSKTELNFKEWQKAFTDVMGMDELYKWLEEWRERLECWWGPVGTQTQLGACMGALGLHLGSRLDNEQETQTISAIVAEPGCEWVEEAAPGLPDFPEPFSLPPIPRL\",\n",
        "        (\n",
        "            \"motif_2\",\n",
        "            \"motif_1\",\n",
        "            \"motif_6\",\n",
        "            \"motif_3\",\n",
        "            \"motif_4\",\n",
        "        ): \"MVSKGEEDNMASLPATHELHIFGSINGVDFDMVGQGTGNPNDGYEELNLKSTKGDLQFSPWILVPHIGYGFHQYLPYPDGMSPFQAAMVDGSGYQVHRTMQFEDGASLTVNYRYTYEGSHIKGEAQVKGTGFPADGPVMTNSLTAADWCRSKKTYPNDKTIISTFKWSYTTGNGKRYRSTARTTYTFAKPMAANYLKNQPMYVFRKTELKHSKTELNFKEWQKAFTDVMGMDELYKWLEEWRERLECWWLDPKTQTQLGACMGALGLHLGSRLDIAPYFAWRAALLGRAPPPSARAEPGCEWVEEALDDLPDFPEPFSLPPIPRL\",\n",
        "        (\n",
        "            \"motif_2\",\n",
        "            \"motif_1\",\n",
        "            \"motif_3\",\n",
        "            \"motif_5\",\n",
        "        ): \"MVSKGEEDNMASLPATHELHIFGSINGVDFDMVGQGTGNPNDGYEELNLKSTKGDLQFSPWILVPHIGYGFHQYLPYPDGMSPFQAAMVDGSGYQVHRTMQFEDGASLTVNYRYTYEGSHIKGEAQVKGTGFPADGPVMTNSLTAADWCRSKKTYPNDKTIISTFKWSYTTGNGKRYRSTARTTYTFAKPMAANYLKNQPMYVFRKTELKHSKTELNFKEWQKAFTDVMGMDELYKWLEEWRERLECWWIVGDTQTQLGACMGALGLHLGSRLDKPYDFGLWVLAFAEPGCEWVEELDTGLLLZLPDFPD\",\n",
        "        (\n",
        "            \"motif_2\",\n",
        "            \"motif_1\",\n",
        "            \"motif_3\",\n",
        "            \"motif_5\",\n",
        "            \"motif_7\",\n",
        "        ): \"MVSKGEEDNMASLPATHELHIFGSINGVDFDMVGQGTGNPNDGYEELNLKSTKGDLQFSPWILVPHIGYGFHQYLPYPDGMSPFQAAMVDGSGYQVHRTMQFEDGASLTVNYRYTYEGSHIKGEAQVKGTGFPADGPVMTNSLTAADWCRSKKTYPNDKTIISTFKWSYTTGNGKRYRSTARTTYTFAKPMAANYLKNQPMYVFRKTELKHSKTELNFKEWQKAFTDVMGMDELYKWLEEWRERLECWWFNAATQTQLGACMGALGLHLGSRLDSRSVVAAIALGAAEPGCEWVEEQGRAMQLZLPDFPDEPPJPRLLP\",\n",
        "        (\n",
        "            \"motif_2\",\n",
        "            \"motif_1\",\n",
        "            \"motif_3\",\n",
        "            \"motif_7\",\n",
        "        ): \"MVSKGEEDNMASLPATHELHIFGSINGVDFDMVGQGTGNPNDGYEELNLKSTKGDLQFSPWILVPHIGYGFHQYLPYPDGMSPFQAAMVDGSGYQVHRTMQFEDGASLTVNYRYTYEGSHIKGEAQVKGTGFPADGPVMTNSLTAADWCRSKKTYPNDKTIISTFKWSYTTGNGKRYRSTARTTYTFAKPMAANYLKNQPMYVFRKTELKHSKTELNFKEWQKAFTDVMGMDELYKWLEEWRERLECWWSIIETQTQLGACMGALGLHLGSRLDASPLPSCRSDDLAEPGCEWVEELYDGPRAAFPPJPRLLP\",\n",
        "    },\n",
        "}\n",
        "\n",
        "candidates = {\n",
        "    k: {\n",
        "        \"+\".join((m.split(\"_\")[-1] for m in motifs)): pyhmmer.easel.TextSequence(\n",
        "            name=(k + \"_\" + \"+\".join((m.split(\"_\")[-1] for m in motifs))).encode(\n",
        "                \"utf-8\"\n",
        "            ),\n",
        "            sequence=seq,\n",
        "        ).digitize(hmm.alphabet)\n",
        "        for motifs, seq in seqs.items()\n",
        "    }\n",
        "    for k, seqs in candidates.items()\n",
        "}\n",
        "\n",
        "candidate_scores = {}\n",
        "\n",
        "for k, seqs in candidates.items():\n",
        "    candidate_scores[k] = {}\n",
        "    for m, seq in seqs.items():\n",
        "        hits = pipeline.search_hmm(hmm, pyhmmer.easel.DigitalSequenceBlock(hmm.alphabet, [seq]))\n",
        "        if len(hits) == 0:\n",
        "            candidate_scores[k][m] = 0\n",
        "        else:\n",
        "            candidate_scores[k][m] = hits[0].pvalue\n",
        "    candidate_scores[k] = dict(sorted(candidate_scores[k].items(), key=lambda x: x[1]))\n",
        "\n",
        "# Print results\n",
        "for k, seqs in candidate_scores.items():\n",
        "    print(f\"{k}:\")\n",
        "    for m, score in seqs.items():\n",
        "        print(f\"\\t{m}:\\t{score:.2e}\")\n",
        "        \n",
        "# Save the results as fasta\n",
        "with open(\"../data/utp-data/reporter-candidates.fasta\", \"w\") as f:\n",
        "    for k, seqs in candidates.items():\n",
        "        for m, seq in seqs.items():\n",
        "            SeqIO.write(\n",
        "                SeqRecord.SeqRecord(\n",
        "                    Seq.Seq(seq.textize().sequence),\n",
        "                    id=k + \"__\" + m.replace(\"+\", \"_\"),\n",
        "                    description=\"\",\n",
        "                ),\n",
        "                f,\n",
        "                \"fasta\",\n",
        "            )"
      ]
    },
    {
      "cell_type": "code",
      "execution_count": 29,
      "metadata": {},
      "outputs": [
        {
          "name": "stdout",
          "output_type": "stream",
          "text": [
            "MVSKGEEDNMASLPATHELHIFGSINGVDFDMVGQGTGNPNDGYEELNLKSTKGDLQFSPWILVPHIGYGFHQYLPYPDGMSPFQAAMVDGSGYQVHRTMQFEDGASLTVNYRYTYEGSHIKGEAQVKGTGFPADGPVMTNSLTAADWCRSKKTYPNDKTIISTFKWSYTTGNGKRYRSTARTTYTFAKPMAANYLKNQPMYVFRKTELKHSKTELNFKEWQKAFTDVMGMDELYKHHHHHHWLEEWRERLECWWLDPKTQTQLGACMGALGLHLGSRLDIAPYFAWRAALLGRAPPPSARAEPGCEWVEEALDDLPDFPEPFSLPPIPRLHHHHHH\n"
          ]
        }
      ],
      "source": [
        "import minineedle\n",
        "import minineedle.needle\n",
        "import minineedle.smith\n",
        "from Bio.Seq import Seq\n",
        "\n",
        "translated = \"MVSKGEEDNMASLPATHELHIFGSINGVDFDMVGQGTGNPNDGYEELNLKSTKGDLQFSPWILVPHIGYGFHQYLPYPDGMSPFQAAMVDGSGYQVHRTMQFEDGASLTVNYRYTYEGSHIKGEAQVKGTGFPADGPVMTNSLTAADWCRSKKTYPNDKTIISTFKWSYTTGNGKRYRSTARTTYTFAKPMAANYLKNQPMYVFRKTELKHSKTELNFKEWQKAFTDVMGMDELYKHHHHHHWLEEWRERLECWWGPVGTQTQLGACMGALGLHLGSRLDNEQETQTISAIVAEPGCEWVEEAAPGLPDFPEPFSLPPIPRLHHHHHH\"\n",
        "\n",
        "original = \"MVSKGEEDNMASLPATHELHIFGSINGVDFDMVGQGTGNPNDGYEELNLKSTKGDLQFSPWILVPHIGYGFHQYLPYPDGMSPFQAAMVDGSGYQVHRTMQFEDGASLTVNYRYTYEGSHIKGEAQVKGTGFPADGPVMTNSLTAADWCRSKKTYPNDKTIISTFKWSYTTGNGKRYRSTARTTYTFAKPMAANYLKNQPMYVFRKTELKHSKTELNFKEWQKAFTDVMGMDELYKWLEEWRERLECWWLDPKTQTQLGACMGALGLHLGSRLDIAPYFAWRAALLGRAPPPSARAEPGCEWVEEALDDLPDFPEPFSLPPIPRL\"\n",
        "\n",
        "with_histags = m_neon_green + \"HHHHHH\" + utp + \"HHHHHH\"\n",
        "\n",
        "a = minineedle.needle.NeedlemanWunsch(translated, with_histags)\n",
        "a.align()\n",
        "print(with_histags)"
      ]
    },
    {
      "cell_type": "code",
      "execution_count": 7,
      "metadata": {},
      "outputs": [],
      "source": [
        "utp = \"MVSKGEEDNMASLPATHELHIFGSINGVDFDMVGQGTGNPNDGYEELNLKSTKGDLQFSPWILVPHIGYGFHQYLPYPDGMSPFQAAMVDGSGYQVHRTMQFEDGASLTVNYRYTYEGSHIKGEAQVKGTGFPADGPVMTNSLTAADWCRSKKTYPNDKTIISTFKWSYTTGNGKRYRSTARTTYTFAKPMAANYLKNQPMYVFRKTELKHSKTELNFKEWQKAFTDVMGMDELYKWLEEWRERLECWWLDPKTQTQLGACMGALGLHLGSRLDIAPYFAWRAALLGRAPPPSARAEPGCEWVEEALDDLPDFPEPFSLPPIPRL\"[len(\"MVSKGEEDNMASLPATHELHIFGSINGVDFDMVGQGTGNPNDGYEELNLKSTKGDLQFSPWILVPHIGYGFHQYLPYPDGMSPFQAAMVDGSGYQVHRTMQFEDGASLTVNYRYTYEGSHIKGEAQVKGTGFPADGPVMTNSLTAADWCRSKKTYPNDKTIISTFKWSYTTGNGKRYRSTARTTYTFAKPMAANYLKNQPMYVFRKTELKHSKTELNFKEWQKAFTDVMGMDELYK\"):]"
      ]
    },
    {
      "cell_type": "code",
      "execution_count": 26,
      "metadata": {},
      "outputs": [
        {
          "ename": "FileNotFoundError",
          "evalue": "[Errno 2] No such file or directory: './utp-data/meme/meme_gb.xml'",
          "output_type": "error",
          "traceback": [
            "\u001b[0;31m---------------------------------------------------------------------------\u001b[0m",
            "\u001b[0;31mFileNotFoundError\u001b[0m                         Traceback (most recent call last)",
            "Cell \u001b[0;32mIn[26], line 5\u001b[0m\n\u001b[1;32m      1\u001b[0m m_neon_green \u001b[38;5;241m=\u001b[39m \u001b[38;5;124m\"\u001b[39m\u001b[38;5;124mMVSKGEEDNMASLPATHELHIFGSINGVDFDMVGQGTGNPNDGYEELNLKSTKGDLQFSPWILVPHIGYGFHQYLPYPDGMSPFQAAMVDGSGYQVHRTMQFEDGASLTVNYRYTYEGSHIKGEAQVKGTGFPADGPVMTNSLTAADWCRSKKTYPNDKTIISTFKWSYTTGNGKRYRSTARTTYTFAKPMAANYLKNQPMYVFRKTELKHSKTELNFKEWQKAFTDVMGMDELYK\u001b[39m\u001b[38;5;124m\"\u001b[39m\n\u001b[1;32m      3\u001b[0m m_venus \u001b[38;5;241m=\u001b[39m \u001b[38;5;124m\"\u001b[39m\u001b[38;5;124mMVSKGEELFTGVVPILVELDGDVNGHKFSVSGEGEGDATYGKLTLKLICTTGKLPVPWPTLVTTLGYGLQCFARYPDHMKQHDFFKSAMPEGYVQERTIFFKDDGNYKTRAEVKFEGDTLVNRIELKGIDFKEDGNILGHKLEYNYNSHNVYITADKQKNGIKANFKIRHNIEDGGVQLADHYQQNTPIGDGPVLLPDNHYLSYQSKLSKDPNEKRDHMVLLEFVTAAGITLGMDELYK\u001b[39m\u001b[38;5;124m\"\u001b[39m\n\u001b[0;32m----> 5\u001b[0m meme_xml \u001b[38;5;241m=\u001b[39m \u001b[43mET\u001b[49m\u001b[38;5;241;43m.\u001b[39;49m\u001b[43mparse\u001b[49m\u001b[43m(\u001b[49m\u001b[38;5;124;43m\"\u001b[39;49m\u001b[38;5;124;43m./utp-data/meme/meme_gb.xml\u001b[39;49m\u001b[38;5;124;43m\"\u001b[39;49m\u001b[43m)\u001b[49m\n\u001b[1;32m      7\u001b[0m motif_seqs \u001b[38;5;241m=\u001b[39m {\n\u001b[1;32m      8\u001b[0m     tag\u001b[38;5;241m.\u001b[39mattrib[\u001b[38;5;124m\"\u001b[39m\u001b[38;5;124mid\u001b[39m\u001b[38;5;124m\"\u001b[39m]: tag\u001b[38;5;241m.\u001b[39mattrib[\u001b[38;5;124m\"\u001b[39m\u001b[38;5;124mname\u001b[39m\u001b[38;5;124m\"\u001b[39m] \u001b[38;5;28;01mfor\u001b[39;00m tag \u001b[38;5;129;01min\u001b[39;00m meme_xml\u001b[38;5;241m.\u001b[39mfindall(\u001b[38;5;124m\"\u001b[39m\u001b[38;5;124m.//motif\u001b[39m\u001b[38;5;124m\"\u001b[39m)\n\u001b[1;32m      9\u001b[0m }\n\u001b[1;32m     10\u001b[0m utp \u001b[38;5;241m=\u001b[39m (\n\u001b[1;32m     11\u001b[0m     motif_seqs[\u001b[38;5;124m\"\u001b[39m\u001b[38;5;124mmotif_2\u001b[39m\u001b[38;5;124m\"\u001b[39m]\n\u001b[1;32m     12\u001b[0m     \u001b[38;5;241m+\u001b[39m motif_seqs[\u001b[38;5;124m\"\u001b[39m\u001b[38;5;124mmotif_1\u001b[39m\u001b[38;5;124m\"\u001b[39m]\n\u001b[1;32m     13\u001b[0m     \u001b[38;5;241m+\u001b[39m motif_seqs[\u001b[38;5;124m\"\u001b[39m\u001b[38;5;124mmotif_3\u001b[39m\u001b[38;5;124m\"\u001b[39m]\n\u001b[1;32m     14\u001b[0m     \u001b[38;5;241m+\u001b[39m motif_seqs[\u001b[38;5;124m\"\u001b[39m\u001b[38;5;124mmotif_4\u001b[39m\u001b[38;5;124m\"\u001b[39m]\n\u001b[1;32m     15\u001b[0m )\n",
            "File \u001b[0;32m~/micromamba/envs/nitroblast/lib/python3.12/xml/etree/ElementTree.py:1204\u001b[0m, in \u001b[0;36mparse\u001b[0;34m(source, parser)\u001b[0m\n\u001b[1;32m   1195\u001b[0m \u001b[38;5;250m\u001b[39m\u001b[38;5;124;03m\"\"\"Parse XML document into element tree.\u001b[39;00m\n\u001b[1;32m   1196\u001b[0m \n\u001b[1;32m   1197\u001b[0m \u001b[38;5;124;03m*source* is a filename or file object containing XML data,\u001b[39;00m\n\u001b[0;32m   (...)\u001b[0m\n\u001b[1;32m   1201\u001b[0m \n\u001b[1;32m   1202\u001b[0m \u001b[38;5;124;03m\"\"\"\u001b[39;00m\n\u001b[1;32m   1203\u001b[0m tree \u001b[38;5;241m=\u001b[39m ElementTree()\n\u001b[0;32m-> 1204\u001b[0m \u001b[43mtree\u001b[49m\u001b[38;5;241;43m.\u001b[39;49m\u001b[43mparse\u001b[49m\u001b[43m(\u001b[49m\u001b[43msource\u001b[49m\u001b[43m,\u001b[49m\u001b[43m \u001b[49m\u001b[43mparser\u001b[49m\u001b[43m)\u001b[49m\n\u001b[1;32m   1205\u001b[0m \u001b[38;5;28;01mreturn\u001b[39;00m tree\n",
            "File \u001b[0;32m~/micromamba/envs/nitroblast/lib/python3.12/xml/etree/ElementTree.py:558\u001b[0m, in \u001b[0;36mElementTree.parse\u001b[0;34m(self, source, parser)\u001b[0m\n\u001b[1;32m    556\u001b[0m close_source \u001b[38;5;241m=\u001b[39m \u001b[38;5;28;01mFalse\u001b[39;00m\n\u001b[1;32m    557\u001b[0m \u001b[38;5;28;01mif\u001b[39;00m \u001b[38;5;129;01mnot\u001b[39;00m \u001b[38;5;28mhasattr\u001b[39m(source, \u001b[38;5;124m\"\u001b[39m\u001b[38;5;124mread\u001b[39m\u001b[38;5;124m\"\u001b[39m):\n\u001b[0;32m--> 558\u001b[0m     source \u001b[38;5;241m=\u001b[39m \u001b[38;5;28;43mopen\u001b[39;49m\u001b[43m(\u001b[49m\u001b[43msource\u001b[49m\u001b[43m,\u001b[49m\u001b[43m \u001b[49m\u001b[38;5;124;43m\"\u001b[39;49m\u001b[38;5;124;43mrb\u001b[39;49m\u001b[38;5;124;43m\"\u001b[39;49m\u001b[43m)\u001b[49m\n\u001b[1;32m    559\u001b[0m     close_source \u001b[38;5;241m=\u001b[39m \u001b[38;5;28;01mTrue\u001b[39;00m\n\u001b[1;32m    560\u001b[0m \u001b[38;5;28;01mtry\u001b[39;00m:\n",
            "\u001b[0;31mFileNotFoundError\u001b[0m: [Errno 2] No such file or directory: './utp-data/meme/meme_gb.xml'"
          ]
        }
      ],
      "source": [
        "m_neon_green = \"MVSKGEEDNMASLPATHELHIFGSINGVDFDMVGQGTGNPNDGYEELNLKSTKGDLQFSPWILVPHIGYGFHQYLPYPDGMSPFQAAMVDGSGYQVHRTMQFEDGASLTVNYRYTYEGSHIKGEAQVKGTGFPADGPVMTNSLTAADWCRSKKTYPNDKTIISTFKWSYTTGNGKRYRSTARTTYTFAKPMAANYLKNQPMYVFRKTELKHSKTELNFKEWQKAFTDVMGMDELYK\"\n",
        "\n",
        "m_venus = \"MVSKGEELFTGVVPILVELDGDVNGHKFSVSGEGEGDATYGKLTLKLICTTGKLPVPWPTLVTTLGYGLQCFARYPDHMKQHDFFKSAMPEGYVQERTIFFKDDGNYKTRAEVKFEGDTLVNRIELKGIDFKEDGNILGHKLEYNYNSHNVYITADKQKNGIKANFKIRHNIEDGGVQLADHYQQNTPIGDGPVLLPDNHYLSYQSKLSKDPNEKRDHMVLLEFVTAAGITLGMDELYK\"\n",
        "\n",
        "meme_xml = ET.parse(\"./utp-data/meme/meme_gb.xml\")\n",
        "\n",
        "motif_seqs = {\n",
        "    tag.attrib[\"id\"]: tag.attrib[\"name\"] for tag in meme_xml.findall(\".//motif\")\n",
        "}\n",
        "utp = (\n",
        "    motif_seqs[\"motif_2\"]\n",
        "    + motif_seqs[\"motif_1\"]\n",
        "    + motif_seqs[\"motif_3\"]\n",
        "    + motif_seqs[\"motif_4\"]\n",
        ")\n",
        "print(utp)\n",
        "\n",
        "print(f\"{m_neon_green + utp=}\\n{m_venus + utp=}\")\n",
        "\n",
        "test = [\n",
        "    pyhmmer.easel.TextSequence(\n",
        "        name=b\"m_neon_green_utp\", sequence=m_neon_green + utp\n",
        "    ).digitize(hmm.alphabet),\n",
        "    pyhmmer.easel.TextSequence(\n",
        "        name=b\"m_venus_utp\", sequence=m_venus + utp\n",
        "    ).digitize(hmm.alphabet),\n",
        "]\n",
        "hits = pipeline.search_hmm(\n",
        "    hmm, pyhmmer.easel.DigitalSequenceBlock(hmm.alphabet, test)\n",
        ")"
      ]
    },
    {
      "cell_type": "code",
      "execution_count": 3,
      "metadata": {},
      "outputs": [
        {
          "data": {},
          "execution_count": 3,
          "metadata": {},
          "output_type": "execute_result"
        }
      ],
      "source": [
        "len(set(\"MVSKGEELFTGVVPILVELDGDVNGHKFSVSGEGEGDATYGKLTLKLICTTGKLPVPWPTLVTTLGYGLQCFARYPDHMKQHDFFKSAMPEGYVQERTIFFKDDGNYKTRAEVKFEGDTLVNRIELKGIDFKEDGNILGHKLEYNYNSHNVYITADKQKNGIKANFKIRHNIEDGGVQLADHYQQNTPIGDGPVLLPDNHYLSYQSKLSKDPNEKRDHMVLLEFVTAAGITLGMDELYKWLEEWRERLECWWTQTQLGACMGALGLHLGSRLDAEPGCEWVEELPDFPEPFSLPPIPRL\"))"
      ]
    },
    {
      "cell_type": "code",
      "execution_count": 9,
      "metadata": {},
      "outputs": [
        {
          "data": {},
          "execution_count": 9,
          "metadata": {},
          "output_type": "execute_result"
        }
      ],
      "source": [
        "hits[0].score"
      ]
    },
    {
      "cell_type": "code",
      "execution_count": 20,
      "metadata": {},
      "outputs": [
        {
          "name": "stdout",
          "output_type": "stream",
          "text": [
            "m_neon_green_utp: 3.63e-15\n",
            "m_venus_utp: 3.89e-15\n"
          ]
        }
      ],
      "source": [
        "print(f\"{hits[0].name.decode('utf-8')}: {hits[0].evalue:.2e}\\n{hits[1].name.decode('utf-8')}: {hits[1].evalue:.2e}\")"
      ]
    }
  ],
  "metadata": {
    "kernelspec": {
      "display_name": "Python 3",
      "language": "python",
      "name": "python3"
    },
    "language_info": {
      "codemirror_mode": {
        "name": "ipython",
        "version": 3
      },
      "file_extension": ".py",
      "mimetype": "text/x-python",
      "name": "python",
      "nbconvert_exporter": "python",
      "pygments_lexer": "ipython3",
      "version": "3.1.undefined"
    }
  },
  "nbformat": 4,
  "nbformat_minor": 2
}
