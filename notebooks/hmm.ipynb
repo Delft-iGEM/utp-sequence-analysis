{
  "cells": [
    {
      "cell_type": "code",
      "execution_count": 2,
      "metadata": {},
      "outputs": [],
      "source": [
        "import pandas as pd\n",
        "import numpy as np\n",
        "import re\n",
        "import random\n",
        "import matplotlib.pyplot as plt\n",
        "from matplotlib_venn import venn2\n",
        "from Bio import SeqIO, Seq, SeqRecord\n",
        "import pyhmmer\n",
        "from collections import defaultdict\n",
        "import xml.etree.ElementTree as ET"
      ]
    },
    {
      "cell_type": "code",
      "execution_count": 2,
      "metadata": {},
      "outputs": [],
      "source": [
        "field_names = [\n",
        "    \"target_name\",\n",
        "    \"accession\",\n",
        "    \"query_name\",\n",
        "    \"query_accession\",\n",
        "    \"E_value_full\",\n",
        "    \"score_full\",\n",
        "    \"bias_full\",\n",
        "    \"E_value_best\",\n",
        "    \"score_best\",\n",
        "    \"bias_best\",\n",
        "    \"exp\",\n",
        "    \"reg\",\n",
        "    \"clu\",\n",
        "    \"ov\",\n",
        "    \"env\",\n",
        "    \"dom\",\n",
        "    \"rep\",\n",
        "    \"inc\",\n",
        "    \"description\",\n",
        "]\n",
        "\n",
        "lines = list(open('../data/utp-data/utp-hits.txt').readlines())\n",
        "lines = lines[3:]\n",
        "\n",
        "rows = []\n",
        "for line in lines:\n",
        "    line = line.strip()\n",
        "    if line.startswith('#'):\n",
        "        continue\n",
        "    fields = re.split(r'\\s+', line.strip())\n",
        "    if len(fields) == 0:\n",
        "        continue\n",
        "    row = dict(zip(field_names, fields))\n",
        "    rows.append(row)\n",
        "    \n",
        "df = pd.DataFrame(rows)"
      ]
    },
    {
      "cell_type": "code",
      "execution_count": 3,
      "metadata": {},
      "outputs": [
        {
          "../data": {
            "image/png": "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",
            "text/plain": [
              "<Figure size 640x480 with 1 Axes>"
            ]
          },
          "metadata": {},
          "output_type": "display_data"
        }
      ],
      "source": [
        "our_hits = set(df[\"target_name\"].unique())\n",
        "their_hits = set((rec.id for rec in SeqIO.parse('../data/uTP_HMM_hits.fasta', 'fasta')))\n",
        "\n",
        "venn2([our_hits, their_hits], ('Ours', 'Theirs'))\n",
        "plt.show()"
      ]
    },
    {
      "cell_type": "code",
      "execution_count": 3,
      "metadata": {},
      "outputs": [],
      "source": [
        "with pyhmmer.plan7.HMMFile(\"../data/utp-data/utp.hmm\") as hmm_file:\n",
        "    hmm = hmm_file.read()"
      ]
    },
    {
      "cell_type": "code",
      "execution_count": 14,
      "metadata": {},
      "outputs": [],
      "source": [
        "with pyhmmer.easel.SequenceFile(\"../data/adk1075-data/ADK1075_proteomics_DB_2.fasta\", digital=True, alphabet=hmm.alphabet) as seq_file:\n",
        "    res = list(pyhmmer.hmmsearch(hmm, seq_file))"
      ]
    },
    {
      "cell_type": "code",
      "execution_count": 4,
      "metadata": {},
      "outputs": [],
      "source": [
        "pipeline = pyhmmer.plan7.Pipeline(hmm.alphabet)"
      ]
    },
    {
      "cell_type": "code",
      "execution_count": 30,
      "metadata": {},
      "outputs": [],
      "source": [
        "# Positive control\n",
        "# ids = set(rec.id for rec in db)\n",
        "good_c_term_ids = set((rec.id for rec in SeqIO.parse(\"../data/utp-data/good-c-term-gb.fasta\", 'fasta')))\n",
        "db = SeqIO.parse('../data/ADK1075_proteomics_DB_2.fasta', 'fasta')\n",
        "positive_control = [rec for rec in db if rec.id in good_c_term_ids]\n",
        "positive_control_hmmer = [pyhmmer.easel.TextSequence(name=rec.id.encode(\"utf-8\"), sequence=str(rec.seq)).digitize(hmm.alphabet) for rec in positive_control]\n",
        "hits = pipeline.search_hmm(hmm, pyhmmer.easel.DigitalSequenceBlock(hmm.alphabet, positive_control_hmmer))\n",
        "hit_ids = set((hit.name.decode(\"utf-8\") for hit in hits))"
      ]
    },
    {
      "cell_type": "code",
      "execution_count": 31,
      "metadata": {},
      "outputs": [
        {
          "name": "stdout",
          "output_type": "stream",
          "text": [
            "Positive control: true_positive_rate=93.20%, false_positive_rate=0.00%\n"
          ]
        }
      ],
      "source": [
        "true_positive_rate = (len(hit_ids & good_c_term_ids) / len(good_c_term_ids)) * 100\n",
        "false_positive_rate = (len(hit_ids - good_c_term_ids) / len(good_c_term_ids)) * 100\n",
        "print(f\"Positive control: {true_positive_rate=:.02f}%, {false_positive_rate=:.02f}%\")"
      ]
    },
    {
      "cell_type": "code",
      "execution_count": 34,
      "metadata": {},
      "outputs": [
        {
          "name": "stdout",
          "output_type": "stream",
          "text": [
            "Positive control:\n",
            "\tMu: 682.33\n",
            "\tSigma: 227.12\n",
            "Negative control:\n",
            "\tMu: 675.90\n",
            "\tSigma: 229.92\n"
          ]
        }
      ],
      "source": [
        "# negative control - include very random sequences, ucyn-a encoded proteins\n",
        "\n",
        "db = SeqIO.parse(\"../data/adk1075-data/ADK1075_proteomics_DB_2.fasta\", \"fasta\")\n",
        "db = [rec for rec in db if rec.id not in good_c_term_ids]\n",
        "db_lens = defaultdict(list)\n",
        "for record in db:\n",
        "    db_lens[len(record.seq)].append(record)\n",
        "db_lens = dict(db_lens)\n",
        "\n",
        "positive_lens = np.array([len(record.seq) for record in positive_control])\n",
        "mu = np.mean(positive_lens)\n",
        "sigma = np.std(positive_lens)\n",
        "positive_no_outliers = [record for record in positive_control if mu - 3 * sigma <= len(record.seq) <= mu + 3 * sigma]\n",
        "positive_lens = np.array([len(record.seq) for record in positive_no_outliers])\n",
        "\n",
        "negative_control = []\n",
        "for _ in range(len(positive_lens)):\n",
        "    l = int(np.random.normal(mu, sigma))\n",
        "    closest = min(db_lens.keys(), key=lambda x: abs(x - l))\n",
        "    chosen_rec_idx = random.randint(0, len(db_lens[closest]) - 1)\n",
        "    chosen_rec = db_lens[closest].pop(chosen_rec_idx)\n",
        "    if len(db_lens[closest]) == 0:\n",
        "        del db_lens[closest]\n",
        "    negative_control.append(chosen_rec)\n",
        "\n",
        "negative_control_lens = np.array([len(record.seq) for record in negative_control])\n",
        "print(f\"Positive control:\")\n",
        "print(f\"\\tMu: {mu:.02f}\")\n",
        "print(f\"\\tSigma: {sigma:.02f}\")\n",
        "print(f\"Negative control:\")\n",
        "print(f\"\\tMu: {np.mean(negative_control_lens):.02f}\")\n",
        "print(f\"\\tSigma: {np.std(negative_control_lens):.02f}\")"
      ]
    },
    {
      "cell_type": "code",
      "execution_count": 35,
      "metadata": {},
      "outputs": [
        {
          "../data": {
            "image/png": "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",
            "text/plain": [
              "<Figure size 640x480 with 1 Axes>"
            ]
          },
          "metadata": {},
          "output_type": "display_data"
        }
      ],
      "source": [
        "plt.hist(positive_lens, bins=20, alpha=0.5, label='Positive control')\n",
        "plt.hist(negative_control_lens, bins=20, alpha=0.5, label='Negative control')\n",
        "plt.legend()\n",
        "plt.show()"
      ]
    },
    {
      "cell_type": "code",
      "execution_count": 36,
      "metadata": {},
      "outputs": [],
      "source": [
        "negative_control_hmmer = [pyhmmer.easel.TextSequence(name=rec.id.encode(\"utf-8\"), sequence=str(rec.seq)).digitize(hmm.alphabet) for rec in negative_control]\n",
        "hits = pipeline.search_hmm(hmm, pyhmmer.easel.DigitalSequenceBlock(hmm.alphabet, negative_control_hmmer))\n",
        "hit_ids = set((hit.name.decode(\"utf-8\") for hit in hits))"
      ]
    },
    {
      "cell_type": "code",
      "execution_count": 37,
      "metadata": {},
      "outputs": [
        {
          "name": "stdout",
          "output_type": "stream",
          "text": [
            "Negative control: true_negative_rate=0.00%, false_negative_rate=3.40%\n"
          ]
        }
      ],
      "source": [
        "true_negative_rate = (len(hit_ids & good_c_term_ids) / len(good_c_term_ids)) * 100\n",
        "false_negative_rate = (len(hit_ids - good_c_term_ids) / len(good_c_term_ids)) * 100\n",
        "print(f\"Negative control: {true_negative_rate=:.02f}%, {false_negative_rate=:.02f}%\")"
      ]
    },
    {
      "cell_type": "code",
      "execution_count": 38,
      "metadata": {},
      "outputs": [
        {
          "name": "stdout",
          "output_type": "stream",
          "text": [
            "Precision: precision=1.00\n",
            "Recall: recall=0.96\n"
          ]
        }
      ],
      "source": [
        "# Precision and recall\n",
        "# Precision = TP / (TP + FP)\n",
        "# Recall = TP / (TP + FN)\n",
        "precision = true_positive_rate / (true_positive_rate + false_positive_rate)\n",
        "recall = true_positive_rate / (true_positive_rate + false_negative_rate)\n",
        "print(f\"Precision: {precision=:.02f}\")\n",
        "print(f\"Recall: {recall=:.02f}\")"
      ]
    },
    {
      "cell_type": "code",
      "execution_count": 28,
      "metadata": {},
      "outputs": [
        {
          "name": "stdout",
          "output_type": "stream",
          "text": [
            "m_venus:\n",
            "\t2+1+6+3+4:\t4.97e-26\n",
            "\t2+1+3+4:\t1.16e-22\n",
            "\t2+1+3+5+7:\t1.77e-22\n",
            "\t2+1+3+7:\t5.41e-20\n",
            "\t2+1+3+5:\t7.82e-19\n",
            "m_neon_green:\n",
            "\t2+1+6+3+4:\t7.31e-26\n",
            "\t2+1+3+4:\t1.00e-23\n",
            "\t2+1+3+5+7:\t8.84e-23\n",
            "\t2+1+3+7:\t2.54e-20\n",
            "\t2+1+3+5:\t1.25e-17\n"
          ]
        }
      ],
      "source": [
        "candidates = {\n",
        "    \"m_venus\": {\n",
        "        (\n",
        "            \"motif_2\",\n",
        "            \"motif_1\",\n",
        "            \"motif_3\",\n",
        "            \"motif_4\",\n",
        "        ): \"MVSKGEELFTGVVPILVELDGDVNGHKFSVSGEGEGDATYGKLTLKLICTTGKLPVPWPTLVTTLGYGLQCFARYPDHMKQHDFFKSAMPEGYVQERTIFFKDDGNYKTRAEVKFEGDTLVNRIELKGIDFKEDGNILGHKLEYNYNSHNVYITADKQKNGIKANFKIRHNIEDGGVQLADHYQQNTPIGDGPVLLPDNHYLSYQSKLSKDPNEKRDHMVLLEFVTAAGITLGMDELYKWLEEWRERLECWWDHSGTQTQLGACMGALGLHLGSRLDLRGHFGASLIEDAEPGCEWVEEPVEMLPDFPEPFSLPPIPRL\",\n",
        "        (\n",
        "            \"motif_2\",\n",
        "            \"motif_1\",\n",
        "            \"motif_6\",\n",
        "            \"motif_3\",\n",
        "            \"motif_4\",\n",
        "        ): \"MVSKGEELFTGVVPILVELDGDVNGHKFSVSGEGEGDATYGKLTLKLICTTGKLPVPWPTLVTTLGYGLQCFARYPDHMKQHDFFKSAMPEGYVQERTIFFKDDGNYKTRAEVKFEGDTLVNRIELKGIDFKEDGNILGHKLEYNYNSHNVYITADKQKNGIKANFKIRHNIEDGGVQLADHYQQNTPIGDGPVLLPDNHYLSYQSKLSKDPNEKRDHMVLLEFVTAAGITLGMDELYKWLEEWRERLECWWMPTETQTQLGACMGALGLHLGSRLDGARASAWRAALLGRAPPPHAPAEPGCEWVEELDRELPDFPEPFSLPPIPRL\",\n",
        "        (\n",
        "            \"motif_2\",\n",
        "            \"motif_1\",\n",
        "            \"motif_3\",\n",
        "            \"motif_5\",\n",
        "        ): \"MVSKGEELFTGVVPILVELDGDVNGHKFSVSGEGEGDATYGKLTLKLICTTGKLPVPWPTLVTTLGYGLQCFARYPDHMKQHDFFKSAMPEGYVQERTIFFKDDGNYKTRAEVKFEGDTLVNRIELKGIDFKEDGNILGHKLEYNYNSHNVYITADKQKNGIKANFKIRHNIEDGGVQLADHYQQNTPIGDGPVLLPDNHYLSYQSKLSKDPNEKRDHMVLLEFVTAAGITLGMDELYKWLEEWRERLECWWASRSTQTQLGACMGALGLHLGSRLDDLATFGDGHFYGAEPGCEWVEELRAVVTLZLPDFPD\",\n",
        "        (\n",
        "            \"motif_2\",\n",
        "            \"motif_1\",\n",
        "            \"motif_3\",\n",
        "            \"motif_5\",\n",
        "            \"motif_7\",\n",
        "        ): \"MVSKGEELFTGVVPILVELDGDVNGHKFSVSGEGEGDATYGKLTLKLICTTGKLPVPWPTLVTTLGYGLQCFARYPDHMKQHDFFKSAMPEGYVQERTIFFKDDGNYKTRAEVKFEGDTLVNRIELKGIDFKEDGNILGHKLEYNYNSHNVYITADKQKNGIKANFKIRHNIEDGGVQLADHYQQNTPIGDGPVLLPDNHYLSYQSKLSKDPNEKRDHMVLLEFVTAAGITLGMDELYKWLEEWRERLECWWEHALTQTQLGACMGALGLHLGSRLDQGELGPQVVYASAEPGCEWVEEYVAEAALZLPDFPDAPPJPRLLP\",\n",
        "        (\n",
        "            \"motif_2\",\n",
        "            \"motif_1\",\n",
        "            \"motif_3\",\n",
        "            \"motif_7\",\n",
        "        ): \"MVSKGEELFTGVVPILVELDGDVNGHKFSVSGEGEGDATYGKLTLKLICTTGKLPVPWPTLVTTLGYGLQCFARYPDHMKQHDFFKSAMPEGYVQERTIFFKDDGNYKTRAEVKFEGDTLVNRIELKGIDFKEDGNILGHKLEYNYNSHNVYITADKQKNGIKANFKIRHNIEDGGVQLADHYQQNTPIGDGPVLLPDNHYLSYQSKLSKDPNEKRDHMVLLEFVTAAGITLGMDELYKWLEEWRERLECWWLEERTQTQLGACMGALGLHLGSRLDEAGSMRSKIPVHAEPGCEWVEEWGSVPLAKPPPJPRLLP\",\n",
        "    },\n",
        "    \"m_neon_green\": {\n",
        "        (\n",
        "            \"motif_2\",\n",
        "            \"motif_1\",\n",
        "            \"motif_3\",\n",
        "            \"motif_4\",\n",
        "        ): \"MVSKGEEDNMASLPATHELHIFGSINGVDFDMVGQGTGNPNDGYEELNLKSTKGDLQFSPWILVPHIGYGFHQYLPYPDGMSPFQAAMVDGSGYQVHRTMQFEDGASLTVNYRYTYEGSHIKGEAQVKGTGFPADGPVMTNSLTAADWCRSKKTYPNDKTIISTFKWSYTTGNGKRYRSTARTTYTFAKPMAANYLKNQPMYVFRKTELKHSKTELNFKEWQKAFTDVMGMDELYKWLEEWRERLECWWGPVGTQTQLGACMGALGLHLGSRLDNEQETQTISAIVAEPGCEWVEEAAPGLPDFPEPFSLPPIPRL\",\n",
        "        (\n",
        "            \"motif_2\",\n",
        "            \"motif_1\",\n",
        "            \"motif_6\",\n",
        "            \"motif_3\",\n",
        "            \"motif_4\",\n",
        "        ): \"MVSKGEEDNMASLPATHELHIFGSINGVDFDMVGQGTGNPNDGYEELNLKSTKGDLQFSPWILVPHIGYGFHQYLPYPDGMSPFQAAMVDGSGYQVHRTMQFEDGASLTVNYRYTYEGSHIKGEAQVKGTGFPADGPVMTNSLTAADWCRSKKTYPNDKTIISTFKWSYTTGNGKRYRSTARTTYTFAKPMAANYLKNQPMYVFRKTELKHSKTELNFKEWQKAFTDVMGMDELYKWLEEWRERLECWWLDPKTQTQLGACMGALGLHLGSRLDIAPYFAWRAALLGRAPPPSARAEPGCEWVEEALDDLPDFPEPFSLPPIPRL\",\n",
        "        (\n",
        "            \"motif_2\",\n",
        "            \"motif_1\",\n",
        "            \"motif_3\",\n",
        "            \"motif_5\",\n",
        "        ): \"MVSKGEEDNMASLPATHELHIFGSINGVDFDMVGQGTGNPNDGYEELNLKSTKGDLQFSPWILVPHIGYGFHQYLPYPDGMSPFQAAMVDGSGYQVHRTMQFEDGASLTVNYRYTYEGSHIKGEAQVKGTGFPADGPVMTNSLTAADWCRSKKTYPNDKTIISTFKWSYTTGNGKRYRSTARTTYTFAKPMAANYLKNQPMYVFRKTELKHSKTELNFKEWQKAFTDVMGMDELYKWLEEWRERLECWWIVGDTQTQLGACMGALGLHLGSRLDKPYDFGLWVLAFAEPGCEWVEELDTGLLLZLPDFPD\",\n",
        "        (\n",
        "            \"motif_2\",\n",
        "            \"motif_1\",\n",
        "            \"motif_3\",\n",
        "            \"motif_5\",\n",
        "            \"motif_7\",\n",
        "        ): \"MVSKGEEDNMASLPATHELHIFGSINGVDFDMVGQGTGNPNDGYEELNLKSTKGDLQFSPWILVPHIGYGFHQYLPYPDGMSPFQAAMVDGSGYQVHRTMQFEDGASLTVNYRYTYEGSHIKGEAQVKGTGFPADGPVMTNSLTAADWCRSKKTYPNDKTIISTFKWSYTTGNGKRYRSTARTTYTFAKPMAANYLKNQPMYVFRKTELKHSKTELNFKEWQKAFTDVMGMDELYKWLEEWRERLECWWFNAATQTQLGACMGALGLHLGSRLDSRSVVAAIALGAAEPGCEWVEEQGRAMQLZLPDFPDEPPJPRLLP\",\n",
        "        (\n",
        "            \"motif_2\",\n",
        "            \"motif_1\",\n",
        "            \"motif_3\",\n",
        "            \"motif_7\",\n",
        "        ): \"MVSKGEEDNMASLPATHELHIFGSINGVDFDMVGQGTGNPNDGYEELNLKSTKGDLQFSPWILVPHIGYGFHQYLPYPDGMSPFQAAMVDGSGYQVHRTMQFEDGASLTVNYRYTYEGSHIKGEAQVKGTGFPADGPVMTNSLTAADWCRSKKTYPNDKTIISTFKWSYTTGNGKRYRSTARTTYTFAKPMAANYLKNQPMYVFRKTELKHSKTELNFKEWQKAFTDVMGMDELYKWLEEWRERLECWWSIIETQTQLGACMGALGLHLGSRLDASPLPSCRSDDLAEPGCEWVEELYDGPRAAFPPJPRLLP\",\n",
        "    },\n",
        "}\n",
        "\n",
        "candidates = {\n",
        "    k: {\n",
        "        \"+\".join((m.split(\"_\")[-1] for m in motifs)): pyhmmer.easel.TextSequence(\n",
        "            name=(k + \"_\" + \"+\".join((m.split(\"_\")[-1] for m in motifs))).encode(\n",
        "                \"utf-8\"\n",
        "            ),\n",
        "            sequence=seq,\n",
        "        ).digitize(hmm.alphabet)\n",
        "        for motifs, seq in seqs.items()\n",
        "    }\n",
        "    for k, seqs in candidates.items()\n",
        "}\n",
        "\n",
        "candidate_scores = {}\n",
        "\n",
        "for k, seqs in candidates.items():\n",
        "    candidate_scores[k] = {}\n",
        "    for m, seq in seqs.items():\n",
        "        hits = pipeline.search_hmm(hmm, pyhmmer.easel.DigitalSequenceBlock(hmm.alphabet, [seq]))\n",
        "        if len(hits) == 0:\n",
        "            candidate_scores[k][m] = 0\n",
        "        else:\n",
        "            candidate_scores[k][m] = hits[0].pvalue\n",
        "    candidate_scores[k] = dict(sorted(candidate_scores[k].items(), key=lambda x: x[1]))\n",
        "\n",
        "# Print results\n",
        "for k, seqs in candidate_scores.items():\n",
        "    print(f\"{k}:\")\n",
        "    for m, score in seqs.items():\n",
        "        print(f\"\\t{m}:\\t{score:.2e}\")\n",
        "        \n",
        "# Save the results as fasta\n",
        "with open(\"../data/utp-data/reporter-candidates.fasta\", \"w\") as f:\n",
        "    for k, seqs in candidates.items():\n",
        "        for m, seq in seqs.items():\n",
        "            SeqIO.write(\n",
        "                SeqRecord.SeqRecord(\n",
        "                    Seq.Seq(seq.textize().sequence),\n",
        "                    id=k + \"__\" + m.replace(\"+\", \"_\"),\n",
        "                    description=\"\",\n",
        "                ),\n",
        "                f,\n",
        "                \"fasta\",\n",
        "            )"
      ]
    },
    {
      "cell_type": "code",
      "execution_count": 5,
      "metadata": {},
      "outputs": [
        {
          "../data": {
            "text/plain": [
              "'WLEEWRERLECWWLDPKTQTQLGACMGALGLHLGSRLDIAPYFAWRAALLGRAPPPSARAEPGCEWVEEALDDLPDFPEPFSLPPIPRL'"
            ]
          },
          "execution_count": 5,
          "metadata": {},
          "output_type": "execute_result"
        }
      ],
      "source": [
        "\n",
        "\n",
        "\"MVSKGEEDNMASLPATHELHIFGSINGVDFDMVGQGTGNPNDGYEELNLKSTKGDLQFSPWILVPHIGYGFHQYLPYPDGMSPFQAAMVDGSGYQVHRTMQFEDGASLTVNYRYTYEGSHIKGEAQVKGTGFPADGPVMTNSLTAADWCRSKKTYPNDKTIISTFKWSYTTGNGKRYRSTARTTYTFAKPMAANYLKNQPMYVFRKTELKHSKTELNFKEWQKAFTDVMGMDELYKWLEEWRERLECWWLDPKTQTQLGACMGALGLHLGSRLDIAPYFAWRAALLGRAPPPSARAEPGCEWVEEALDDLPDFPEPFSLPPIPRL\"[len(\"MVSKGEEDNMASLPATHELHIFGSINGVDFDMVGQGTGNPNDGYEELNLKSTKGDLQFSPWILVPHIGYGFHQYLPYPDGMSPFQAAMVDGSGYQVHRTMQFEDGASLTVNYRYTYEGSHIKGEAQVKGTGFPADGPVMTNSLTAADWCRSKKTYPNDKTIISTFKWSYTTGNGKRYRSTARTTYTFAKPMAANYLKNQPMYVFRKTELKHSKTELNFKEWQKAFTDVMGMDELYK\"):]"
      ]
    },
    {
      "cell_type": "code",
      "execution_count": 6,
      "metadata": {},
      "outputs": [
        {
          "name": "stdout",
          "output_type": "stream",
          "text": [
            "WLEEWRERLECWWTQTQLGACMGALGLHLGSRLDAEPGCEWVEELPDFPEPFSLPPIPRL\n",
            "m_neon_green + utp='MVSKGEEDNMASLPATHELHIFGSINGVDFDMVGQGTGNPNDGYEELNLKSTKGDLQFSPWILVPHIGYGFHQYLPYPDGMSPFQAAMVDGSGYQVHRTMQFEDGASLTVNYRYTYEGSHIKGEAQVKGTGFPADGPVMTNSLTAADWCRSKKTYPNDKTIISTFKWSYTTGNGKRYRSTARTTYTFAKPMAANYLKNQPMYVFRKTELKHSKTELNFKEWQKAFTDVMGMDELYKWLEEWRERLECWWTQTQLGACMGALGLHLGSRLDAEPGCEWVEELPDFPEPFSLPPIPRL'\n",
            "m_venus + utp='MVSKGEELFTGVVPILVELDGDVNGHKFSVSGEGEGDATYGKLTLKLICTTGKLPVPWPTLVTTLGYGLQCFARYPDHMKQHDFFKSAMPEGYVQERTIFFKDDGNYKTRAEVKFEGDTLVNRIELKGIDFKEDGNILGHKLEYNYNSHNVYITADKQKNGIKANFKIRHNIEDGGVQLADHYQQNTPIGDGPVLLPDNHYLSYQSKLSKDPNEKRDHMVLLEFVTAAGITLGMDELYKWLEEWRERLECWWTQTQLGACMGALGLHLGSRLDAEPGCEWVEELPDFPEPFSLPPIPRL'\n"
          ]
        }
      ],
      "source": [
        "m_neon_green = \"MVSKGEEDNMASLPATHELHIFGSINGVDFDMVGQGTGNPNDGYEELNLKSTKGDLQFSPWILVPHIGYGFHQYLPYPDGMSPFQAAMVDGSGYQVHRTMQFEDGASLTVNYRYTYEGSHIKGEAQVKGTGFPADGPVMTNSLTAADWCRSKKTYPNDKTIISTFKWSYTTGNGKRYRSTARTTYTFAKPMAANYLKNQPMYVFRKTELKHSKTELNFKEWQKAFTDVMGMDELYK\"\n",
        "\n",
        "m_venus = \"MVSKGEELFTGVVPILVELDGDVNGHKFSVSGEGEGDATYGKLTLKLICTTGKLPVPWPTLVTTLGYGLQCFARYPDHMKQHDFFKSAMPEGYVQERTIFFKDDGNYKTRAEVKFEGDTLVNRIELKGIDFKEDGNILGHKLEYNYNSHNVYITADKQKNGIKANFKIRHNIEDGGVQLADHYQQNTPIGDGPVLLPDNHYLSYQSKLSKDPNEKRDHMVLLEFVTAAGITLGMDELYK\"\n",
        "\n",
        "meme_xml = ET.parse(\"./utp-data/meme/meme_gb.xml\")\n",
        "\n",
        "motif_seqs = {\n",
        "    tag.attrib[\"id\"]: tag.attrib[\"name\"] for tag in meme_xml.findall(\".//motif\")\n",
        "}\n",
        "utp = (\n",
        "    motif_seqs[\"motif_2\"]\n",
        "    + motif_seqs[\"motif_1\"]\n",
        "    + motif_seqs[\"motif_3\"]\n",
        "    + motif_seqs[\"motif_4\"]\n",
        ")\n",
        "print(utp)\n",
        "\n",
        "print(f\"{m_neon_green + utp=}\\n{m_venus + utp=}\")\n",
        "\n",
        "test = [\n",
        "    pyhmmer.easel.TextSequence(\n",
        "        name=b\"m_neon_green_utp\", sequence=m_neon_green + utp\n",
        "    ).digitize(hmm.alphabet),\n",
        "    pyhmmer.easel.TextSequence(\n",
        "        name=b\"m_venus_utp\", sequence=m_venus + utp\n",
        "    ).digitize(hmm.alphabet),\n",
        "]\n",
        "hits = pipeline.search_hmm(\n",
        "    hmm, pyhmmer.easel.DigitalSequenceBlock(hmm.alphabet, test)\n",
        ")"
      ]
    },
    {
      "cell_type": "code",
      "execution_count": 3,
      "metadata": {},
      "outputs": [
        {
          "../data": {
            "text/plain": [
              "20"
            ]
          },
          "execution_count": 3,
          "metadata": {},
          "output_type": "execute_result"
        }
      ],
      "source": [
        "len(set(\"MVSKGEELFTGVVPILVELDGDVNGHKFSVSGEGEGDATYGKLTLKLICTTGKLPVPWPTLVTTLGYGLQCFARYPDHMKQHDFFKSAMPEGYVQERTIFFKDDGNYKTRAEVKFEGDTLVNRIELKGIDFKEDGNILGHKLEYNYNSHNVYITADKQKNGIKANFKIRHNIEDGGVQLADHYQQNTPIGDGPVLLPDNHYLSYQSKLSKDPNEKRDHMVLLEFVTAAGITLGMDELYKWLEEWRERLECWWTQTQLGACMGALGLHLGSRLDAEPGCEWVEELPDFPEPFSLPPIPRL\"))"
      ]
    },
    {
      "cell_type": "code",
      "execution_count": 9,
      "metadata": {},
      "outputs": [
        {
          "../data": {
            "text/plain": [
              "42.476383209228516"
            ]
          },
          "execution_count": 9,
          "metadata": {},
          "output_type": "execute_result"
        }
      ],
      "source": [
        "hits[0].score"
      ]
    },
    {
      "cell_type": "code",
      "execution_count": 20,
      "metadata": {},
      "outputs": [
        {
          "name": "stdout",
          "output_type": "stream",
          "text": [
            "m_neon_green_utp: 3.63e-15\n",
            "m_venus_utp: 3.89e-15\n"
          ]
        }
      ],
      "source": [
        "print(f\"{hits[0].name.decode('utf-8')}: {hits[0].evalue:.2e}\\n{hits[1].name.decode('utf-8')}: {hits[1].evalue:.2e}\")"
      ]
    }
  ],
  "metadata": {
    "kernelspec": {
      "display_name": "Python 3",
      "language": "python",
      "name": "python3"
    },
    "language_info": {
      "codemirror_mode": {
        "name": "ipython",
        "version": 3
      },
      "file_extension": ".py",
      "mimetype": "text/x-python",
      "name": "python",
      "nbconvert_exporter": "python",
      "pygments_lexer": "ipython3",
      "version": "3.10.14"
    }
  },
  "nbformat": 4,
  "nbformat_minor": 2
}
